{
 "cells": [
  {
   "cell_type": "code",
   "execution_count": 1,
   "metadata": {},
   "outputs": [],
   "source": [
    "import torch\n",
    "from sklearn.model_selection import train_test_split\n",
    "img = torch.load('bone-features.pt')\n",
    "img = img.to(torch.double).numpy()\n",
    "lab = torch.load('bone-labels.pt').numpy()"
   ]
  },
  {
   "cell_type": "code",
   "execution_count": 2,
   "metadata": {
    "tags": []
   },
   "outputs": [
    {
     "name": "stdout",
     "output_type": "stream",
     "text": [
      "\n",
      "[KeOps] Warning : There were warnings or errors compiling formula :\n",
      "<stdin>:1:10: fatal error: cuda.h: No such file or directory\n",
      "compilation terminated.\n",
      "\n",
      "[KeOps] Warning : \n",
      "    The location of Cuda header files cuda.h and nvrtc.h could not be detected on your system.\n",
      "    You must determine their location and then define the environment variable CUDA_PATH,\n",
      "    either before launching Python or using os.environ before importing keops. For example\n",
      "    if these files are in /vol/cuda/10.2.89-cudnn7.6.4.38/include you can do :\n",
      "      import os\n",
      "      os.environ['CUDA_PATH'] = '/vol/cuda/10.2.89-cudnn7.6.4.38'\n",
      "    \n",
      "[KeOps] Compiling cuda jit compiler engine ... \n",
      "[KeOps] Warning : There were warnings or errors compiling formula :\n",
      "/home/luchar/.pyenv/versions/3.11.4/lib/python3.11/site-packages/keopscore/binders/nvrtc/nvrtc_jit.cpp:5:10: fatal error: nvrtc.h: No such file or directory\n",
      "    5 | #include <nvrtc.h>\n",
      "      |          ^~~~~~~~~\n",
      "compilation terminated.\n",
      "\n",
      "OK\n",
      "[pyKeOps] Compiling nvrtc binder for python ... \n",
      "[KeOps] Warning : There were warnings or errors compiling formula :\n",
      "In file included from /home/luchar/.pyenv/versions/3.11.4/lib/python3.11/site-packages/pykeops/common/keops_io/pykeops_nvrtc.cpp:4:\n",
      "/home/luchar/.pyenv/versions/3.11.4/lib/python3.11/site-packages/keopscore/binders/nvrtc/keops_nvrtc.cpp:6:10: fatal error: nvrtc.h: No such file or directory\n",
      "    6 | #include <nvrtc.h>\n",
      "      |          ^~~~~~~~~\n",
      "compilation terminated.\n",
      "\n",
      "OK\n"
     ]
    },
    {
     "data": {
      "text/plain": [
       "<module 'main_gaussian' from '/u/luchar/data-markets/main_gaussian.py'>"
      ]
     },
     "execution_count": 2,
     "metadata": {},
     "output_type": "execute_result"
    }
   ],
   "source": [
    "import main_gaussian \n",
    "import frank_wolfe\n",
    "import numpy as np\n",
    "import random\n",
    "import matplotlib.pyplot as plt\n",
    "from scipy.optimize import minimize_scalar\n",
    "from sklearn import preprocessing\n",
    "from importlib import reload\n",
    "from collections import defaultdict\n",
    "reload(frank_wolfe)\n",
    "reload(main_gaussian)\n",
    "\n",
    "from tqdm.notebook import tqdm\n",
    "from sklearn.cluster import KMeans\n",
    "\n",
    "import torch\n",
    "from sklearn.linear_model import LinearRegression, Ridge\n",
    "from sklearn.metrics import mean_squared_error\n",
    "def evaluate_subset(train_subset, train_x, train_y, test_x, test_y, use_ridge=False):\n",
    "    if isinstance(train_x, torch.Tensor):\n",
    "        train_x = train_x.numpy()\n",
    "        train_y = train_y.numpy()\n",
    "        test_x = test_x.numpy()\n",
    "        test_y = test_y.numpy()\n",
    "    if use_ridge:\n",
    "        reg = Ridge(fit_intercept=False)\n",
    "    else:\n",
    "        reg = LinearRegression(fit_intercept=False)\n",
    "    reg.fit(train_x[train_subset], train_y[train_subset])\n",
    "    pred = reg.predict(test_x)\n",
    "    error = mean_squared_error(test_y, pred)\n",
    "    return error\n",
    "\n",
    "from main_gaussian import get_data, design_selection\n",
    "import frank_wolfe\n",
    "\n",
    "from importlib import reload\n",
    "reload(frank_wolfe)\n",
    "reload(main_gaussian)"
   ]
  },
  {
   "cell_type": "code",
   "execution_count": 131,
   "metadata": {},
   "outputs": [
    {
     "name": "stdout",
     "output_type": "stream",
     "text": [
      "subset difference 1.3318861108943252\n",
      "seller difference 2.0428021304804167\n",
      "0-9\t 0.1\n",
      "0-5, 15-19\t 0.2\n",
      "20-29\t 0.2\n",
      "random\t 2.4\n"
     ]
    }
   ],
   "source": [
    "# num_seller = 10000\n",
    "num_seller = 15000\n",
    "num_buyer = 10\n",
    "dim = 1000\n",
    "\n",
    "noise_level=1\n",
    "# noise_level=0.5\n",
    "# noise_level=0.1\n",
    "\n",
    "def h(c, a=1, b=0): return c**a + b\n",
    "\n",
    "# bone_data = True\n",
    "bone_data = False\n",
    "\n",
    "if bone_data:\n",
    "    noise_level=0.1\n",
    "    \n",
    "    x_sell, x_buy, y_sell, y_buy = train_test_split(img[:num_seller], lab[:num_seller], test_size=num_buyer, random_state=0)\n",
    "    x_sell = np.concatenate([\n",
    "        x_buy[:10],\n",
    "        x_buy[:10],\n",
    "        x_buy[:10],\n",
    "        x_sell,\n",
    "    ])\n",
    "    y_sell = np.concatenate([\n",
    "        y_buy[:10],\n",
    "        y_buy[:10],\n",
    "        y_buy[:10],\n",
    "        y_sell,\n",
    "    ])\n",
    "    \n",
    "    costs = np.ones(x_sell.shape[0])\n",
    "    costs[0:10] = np.linspace(1, 2, 10)\n",
    "    costs[10:20] = np.linspace(2, 1, 10)\n",
    "    costs[20:30] = np.linspace(1, 2, 10)\n",
    "    # costs[20:30] = 3\n",
    "    costs[30:] = np.random.choice(np.linspace(1, 2, 10), size=costs[30:].shape[0])\n",
    "    \n",
    "    x_sell = x_sell + (noise_level * costs[:, None] * np.random.randn(*x_sell.shape))\n",
    "    # y_sell = y_sell + noise_level * costs * np.random.randn(x_sell.shape[0])\n",
    "else:\n",
    "    x_sell = np.random.normal(size=(num_seller, dim))\n",
    "    x_sell /= np.linalg.norm(x_sell, axis=1, keepdims=True)  # normalize data\n",
    "    \n",
    "    beta_true = np.random.exponential(scale=1, size=dim)\n",
    "    beta_true *= np.sign(np.random.random(size=dim))\n",
    "    \n",
    "    x_buy = np.random.normal(size=[num_buyer, dim])\n",
    "    x_buy /= np.linalg.norm(x_buy, axis=1, keepdims=True) \n",
    "    y_buy = x_buy @ beta_true\n",
    "    \n",
    "    x_sell = np.concatenate([\n",
    "        x_buy,\n",
    "        x_buy,\n",
    "        x_buy,\n",
    "        x_sell,\n",
    "    ])\n",
    "    \n",
    "    costs = np.ones(x_sell.shape[0])\n",
    "    costs[0:10] = np.linspace(1, 10, 10)\n",
    "    costs[10:20] = np.linspace(10, 1, 10)\n",
    "    costs[20:30] = np.linspace(1, 10, 10)\n",
    "    costs[30:] = np.random.choice(np.linspace(1, 10, 10), size=costs[30:].shape[0])\n",
    "    x_sell = np.einsum('i,ij->ij', h(costs, a=0.5), x_sell)\n",
    "    y_sell = x_sell @ beta_true + noise_level * np.random.randn(x_sell.shape[0])\n",
    "\n",
    "print('subset difference', np.mean(np.abs(y_buy - y_sell[:num_buyer])))\n",
    "print('seller difference', np.mean(np.abs(y_buy - y_sell[-num_buyer:])))\n",
    "\n",
    "sel = [0, 1, 2, 3, 4, 5, 6, 7, 8, 9]\n",
    "print('0-9\\t', \n",
    "      frank_wolfe.MSE(\n",
    "    x_buy, y_buy, \n",
    "    frank_wolfe.least_norm_linear_regression(\n",
    "        x_sell[sel], y_sell[sel])\n",
    ").round(1)\n",
    "     )\n",
    "\n",
    "sel = [0, 1, 2, 3, 4, 15, 16, 17, 18, 19]\n",
    "print('0-5, 15-19\\t', \n",
    "      frank_wolfe.MSE(\n",
    "    x_buy, y_buy, \n",
    "    frank_wolfe.least_norm_linear_regression(\n",
    "        x_sell[sel], y_sell[sel])\n",
    ").round(1)\n",
    "     )\n",
    "\n",
    "sel = [20, 21, 22, 23, 24, 25, 26, 27, 28, 29]\n",
    "print('20-29\\t', \n",
    "      frank_wolfe.MSE(\n",
    "    x_buy, y_buy, \n",
    "    frank_wolfe.least_norm_linear_regression(\n",
    "        x_sell[sel], y_sell[sel])\n",
    ").round(1)\n",
    "     )\n",
    "\n",
    "# sel = range(100, 110)\n",
    "sel = range(200, 210)\n",
    "print('random\\t', \n",
    "      frank_wolfe.MSE(\n",
    "    x_buy, y_buy, \n",
    "    frank_wolfe.least_norm_linear_regression(\n",
    "        x_sell[sel], y_sell[sel])\n",
    ").round(1)\n",
    "     )"
   ]
  },
  {
   "cell_type": "code",
   "execution_count": null,
   "metadata": {},
   "outputs": [],
   "source": []
  },
  {
   "cell_type": "code",
   "execution_count": 140,
   "metadata": {},
   "outputs": [
    {
     "name": "stdout",
     "output_type": "stream",
     "text": [
      "1      162.8992      1.5838      11      0.5\n",
      "2      145.7473      2.0386      10      0.4\n",
      "3      128.7002      1.6432      12      0.3333333333333333\n",
      "4      112.081      1.6019      13      0.2857142857142857\n",
      "5      95.5193      1.6112      4      0.25\n",
      "6      79.0959      1.332      7      0.2222222222222222\n",
      "7      63.021      0.7534      6      0.2\n",
      "8      47.1629      0.7013      5      0.18181818181818182\n",
      "9      31.3929      0.1508      18      0.16666666666666666\n",
      "10      16.063      0.1594      9      0.15384615384615385\n"
     ]
    }
   ],
   "source": [
    "# num_iters = 1000\n",
    "# num_iters = 50\n",
    "# num_iters = 2*num_buyer\n",
    "num_iters = num_buyer\n",
    "# num_iters = 1\n",
    "# num_iters = 2\n",
    "# num_iters = 3\n",
    "\n",
    "# multi_step = True\n",
    "multi_step = False\n",
    " \n",
    "n_sell = x_sell.shape[0]\n",
    "\n",
    "# w = np.ones(n_sell) / n_sell\n",
    "w = np.zeros(n_sell)\n",
    "\n",
    "# inv_cov = np.eye(x_sell.shape[1]) \n",
    "# inv_cov = np.linalg.pinv(np.dot(x_sell.T @ np.diag(w), x_sell))\n",
    "inv_cov = np.linalg.pinv(np.dot(x_sell.T, x_sell)) * n_sell\n",
    "\n",
    "updates = []\n",
    "losses = []\n",
    "errors = []\n",
    "for t in range(1, num_iters + 1):\n",
    "    \n",
    "    # alpha = (init_alpha + 1) / (t + 1)\n",
    "    alpha = 2 / (3 + t)\n",
    "    # alpha = 0.1\n",
    "    \n",
    "    neg_grad = frank_wolfe.compute_neg_gradient(x_sell, x_buy, inv_cov)\n",
    "    update = np.argmax((1 / costs) * neg_grad)\n",
    "    # update = np.argmax(neg_grad)\n",
    "    updates.append(update)\n",
    "    \n",
    "    loss = frank_wolfe.compute_exp_design_loss(x_buy, inv_cov)\n",
    "    losses.append(loss)\n",
    "    error = frank_wolfe.MSE(\n",
    "        x_buy, y_buy, \n",
    "        frank_wolfe.least_norm_linear_regression(\n",
    "            x_sell[w.argsort()[-num_buyer:]], y_sell[w.argsort()[-num_buyer:]])\n",
    "    )\n",
    "    errors.append(error)\n",
    "    \n",
    "    print(\n",
    "        t,\n",
    "        '    ',\n",
    "        round(loss, 4),\n",
    "        '    ',\n",
    "        round(error, 4),\n",
    "        '    ',\n",
    "        update,\n",
    "        '    ',\n",
    "        alpha, \n",
    "\n",
    "    )\n",
    "    \n",
    "    # print(update)\n",
    "\n",
    "    if multi_step:\n",
    "        coords = np.argsort((1 / costs) * neg_grad)[::-1]\n",
    "        print(coords[:10])\n",
    "        # for i in range(1, num_buyer + 1):\n",
    "        # for i in range(0, num_buyer):\n",
    "        for i in range(0, num_buyer):\n",
    "            alpha_i = alpha / (3 + i)\n",
    "            # w *= (1 - alpha_i)\n",
    "            w[coords[i]] += alpha_i\n",
    "            # inv_cov /= 1 - alpha_i \n",
    "    else:\n",
    "        # w /= (1 - alpha)\n",
    "        # w *= (1 - alpha)\n",
    "        \n",
    "        w[update] += alpha\n",
    "        # inv_cov = np.linalg.pinv(x_sell.T @ np.diag(w) @ x_sell)\n",
    "        \n",
    "        # inv_cov *= 1 - alpha \n",
    "        # inv_cov /= 1 - alpha \n",
    "        \n",
    "    inv_cov = frank_wolfe.sherman_morrison_update_inverse( \n",
    "        inv_cov,\n",
    "        alpha * x_sell[update, :],\n",
    "        x_sell[update, :],\n",
    "    )\n",
    "\n",
    "w /= w.sum()\n",
    "# neg_grad"
   ]
  },
  {
   "cell_type": "code",
   "execution_count": null,
   "metadata": {},
   "outputs": [],
   "source": []
  },
  {
   "cell_type": "code",
   "execution_count": 141,
   "metadata": {},
   "outputs": [
    {
     "data": {
      "text/plain": [
       "[<matplotlib.lines.Line2D at 0x7fe1d24c4350>]"
      ]
     },
     "execution_count": 141,
     "metadata": {},
     "output_type": "execute_result"
    },
    {
     "data": {
      "image/png": "[encoded data removed]",
      "text/plain": [
       "<Figure size 640x480 with 1 Axes>"
      ]
     },
     "metadata": {},
     "output_type": "display_data"
    }
   ],
   "source": [
    "plt.plot(errors, ls='--', marker='.')\n",
    "# plt.xlim(0, 20)\n",
    "# plt.yscale('log')"
   ]
  },
  {
   "cell_type": "code",
   "execution_count": 142,
   "metadata": {},
   "outputs": [
    {
     "data": {
      "text/plain": [
       "Text(0, 0.5, 'Error')"
      ]
     },
     "execution_count": 142,
     "metadata": {},
     "output_type": "execute_result"
    },
    {
     "data": {
      "image/png": "[encoded data removed]",
      "text/plain": [
       "<Figure size 640x480 with 1 Axes>"
      ]
     },
     "metadata": {},
     "output_type": "display_data"
    }
   ],
   "source": [
    "plt.scatter(neg_grad,\n",
    "[np.mean(np.abs(y_buy - y)) for y in y_sell],\n",
    "          marker='.')\n",
    "# plt.ylim(0, 3)\n",
    "plt.xlabel('Gradient')\n",
    "plt.ylabel('Error')"
   ]
  },
  {
   "cell_type": "code",
   "execution_count": 143,
   "metadata": {},
   "outputs": [
    {
     "name": "stdout",
     "output_type": "stream",
     "text": [
      "Ours 0.099\n",
      "[4, 5, 6, 7, 9, 10, 11, 12, 13, 18]\n",
      "\n",
      "Ours (non-sampled) 0.099\n",
      "[4, 5, 6, 7, 9, 10, 11, 12, 13, 18]\n",
      "\n",
      "grad 1.603\n",
      "[0, 1, 2, 10, 11, 12, 13, 20, 21, 22]\n",
      "\n",
      "Random 2.21\n",
      "[115, 2124, 3311, 3994, 7197, 7569, 7605, 11460, 11797, 13522]\n",
      "\n"
     ]
    }
   ],
   "source": [
    "des_mse = []\n",
    "for _ in range(10):\n",
    "    des_sel_samp = np.random.choice(np.arange(len(x_sell)), p=w / w.sum(), size=num_buyer, replace=False)\n",
    "    des_mse.append(frank_wolfe.MSE(\n",
    "        x_buy, y_buy, \n",
    "        frank_wolfe.least_norm_linear_regression(x_sell[des_sel_samp], y_sell[des_sel_samp])\n",
    "    ))\n",
    "print('Ours', np.mean(des_mse).round(3))\n",
    "des_sel_sort = w.argsort()[::-1][:num_buyer]\n",
    "print(sorted(des_sel_samp))\n",
    "print()\n",
    "\n",
    "print('Ours (non-sampled)', frank_wolfe.MSE(x_buy, y_buy, frank_wolfe.least_norm_linear_regression(x_sell[des_sel_sort], y_sell[des_sel_sort])).round(3))\n",
    "print(sorted(des_sel_sort))\n",
    "print()\n",
    "\n",
    "inv_cov = np.linalg.pinv(np.dot(x_sell.T, x_sell))\n",
    "grad_sel = ((1/costs) * frank_wolfe.compute_neg_gradient(x_sell, x_buy, inv_cov)).argsort()[::-1][:num_buyer]\n",
    "print('grad', \n",
    "      frank_wolfe.MSE(\n",
    "    x_buy, y_buy, \n",
    "    frank_wolfe.least_norm_linear_regression(x_sell[grad_sel], y_sell[grad_sel])\n",
    ").round(3))\n",
    "print(sorted(grad_sel))\n",
    "print()\n",
    "\n",
    "\n",
    "ran_mse = []\n",
    "for _ in range(10):\n",
    "    ran_sel = np.random.choice(np.arange(len(x_sell)), size=num_buyer, replace=False)\n",
    "    ran_mse.append(frank_wolfe.MSE(\n",
    "        x_buy, y_buy, \n",
    "        frank_wolfe.least_norm_linear_regression(x_sell[ran_sel], y_sell[ran_sel])\n",
    "    ))\n",
    "print('Random', np.mean(ran_mse).round(2))\n",
    "print(sorted(ran_sel))\n",
    "print()"
   ]
  },
  {
   "cell_type": "code",
   "execution_count": 144,
   "metadata": {},
   "outputs": [],
   "source": [
    "# w[:10].sum(), w[:20].sum(), w[:30].sum(), w[:40].sum(), w[:5000].sum()"
   ]
  },
  {
   "cell_type": "code",
   "execution_count": 145,
   "metadata": {},
   "outputs": [
    {
     "data": {
      "text/plain": [
       "Text(0, 0.5, 'Weight')"
      ]
     },
     "execution_count": 145,
     "metadata": {},
     "output_type": "execute_result"
    },
    {
     "data": {
      "image/png": "[encoded data removed]",
      "text/plain": [
       "<Figure size 640x480 with 1 Axes>"
      ]
     },
     "metadata": {},
     "output_type": "display_data"
    }
   ],
   "source": [
    "plt.axvline(10, c='k')\n",
    "plt.axvline(20, c='k')\n",
    "plt.axvline(30, c='k')\n",
    "plt.axvline(30, c='k')\n",
    "plt.bar(np.arange(0, 40), w[:40])\n",
    "plt.xlabel('Datapoint', fontsize=14)\n",
    "plt.ylabel('Weight', fontsize=14, rotation=0, labelpad=32)\n",
    "# plt.text(0, 0.17, r'cost = np.linspace(1, 10, 10)')\n",
    "# plt.text(12, 0.17, r'cost = np.linspace(10, 1, 10)')"
   ]
  },
  {
   "cell_type": "code",
   "execution_count": 146,
   "metadata": {},
   "outputs": [
    {
     "name": "stdout",
     "output_type": "stream",
     "text": [
      "----------------DataOob-----------------\n"
     ]
    },
    {
     "name": "stderr",
     "output_type": "stream",
     "text": [
      "100%|███████████████████████████████████████████████████████████████████████████████████████████████████████████████████████████| 100/100 [02:49<00:00,  1.69s/it]\n"
     ]
    },
    {
     "name": "stdout",
     "output_type": "stream",
     "text": [
      "\tTIME: 170\n"
     ]
    }
   ],
   "source": [
    "dummy = np.ones((4, x_sell.shape[1])), np.ones((4))\n",
    "oob_values = main_gaussian.get_baseline_values(\n",
    "    x_sell, y_sell, *dummy, *dummy, \n",
    "    baseline_kwargs={\"DataOob\": {\"num_models\": 100}},\n",
    ")"
   ]
  },
  {
   "cell_type": "code",
   "execution_count": 147,
   "metadata": {},
   "outputs": [
    {
     "data": {
      "text/plain": [
       "array([ 3973, 13262,   561,  8133,  2924,  4993, 11332,  8444,  7022,\n",
       "        5345])"
      ]
     },
     "execution_count": 147,
     "metadata": {},
     "output_type": "execute_result"
    }
   ],
   "source": [
    "oob_values[0]['DataOob'].argsort()[::-1][:10]"
   ]
  },
  {
   "cell_type": "code",
   "execution_count": 148,
   "metadata": {},
   "outputs": [
    {
     "data": {
      "text/plain": [
       "<matplotlib.legend.Legend at 0x7fe1d2a96190>"
      ]
     },
     "execution_count": 148,
     "metadata": {},
     "output_type": "execute_result"
    },
    {
     "data": {
      "image/png": "[encoded data removed]",
      "text/plain": [
       "<Figure size 640x480 with 1 Axes>"
      ]
     },
     "metadata": {},
     "output_type": "display_data"
    }
   ],
   "source": [
    "# TODO  change x-axis to budget instead of cost\n",
    "trials = 5\n",
    "\n",
    "rang = list(range(2, num_buyer, 1)) \n",
    "rand_err  = []\n",
    "rand_cost = []\n",
    "for _ in range(trials):\n",
    "    perm = np.random.permutation(np.arange(x_sell.shape[0]))\n",
    "    rand_err.append([\n",
    "        frank_wolfe.MSE(\n",
    "            x_buy, y_buy, \n",
    "            frank_wolfe.least_norm_linear_regression(x_sell[perm][:k], y_sell[perm][:k])\n",
    "        )\n",
    "        for k in rang\n",
    "    ])\n",
    "    rand_cost.append([costs[perm][:k].sum() for k in rang])\n",
    "    \n",
    "design_err = []\n",
    "design_cost = []\n",
    "for _ in range(trials):\n",
    "    derr = []\n",
    "    dcos = []\n",
    "    for k in rang:\n",
    "        sel = np.random.choice(np.arange(len(x_sell)), p=w / w.sum(), size=k, replace=False)\n",
    "        dcos.append(costs[sel].sum())\n",
    "        derr.append(frank_wolfe.MSE(\n",
    "            x_buy, y_buy, \n",
    "            frank_wolfe.least_norm_linear_regression(x_sell[sel], y_sell[sel]),\n",
    "        ))\n",
    "    design_err.append(derr)\n",
    "    design_cost.append(dcos)\n",
    "\n",
    "    \n",
    "plt.plot(\n",
    "    np.mean(rand_cost, 0),\n",
    "    np.mean(rand_err, 0),\n",
    "    label='Random', ls='--', c='C2', marker='o'\n",
    ")\n",
    "plt.plot(\n",
    "    np.mean(design_cost, 0),\n",
    "    np.mean(design_err, 0),\n",
    "    label='Design', ls='--', c='C0', marker='*',\n",
    ")\n",
    "                \n",
    "# plt.plot(\n",
    "#     [costs[w.argsort()[-k:]].sum() for k in rang], [\n",
    "#     frank_wolfe.MSE(\n",
    "#         x_buy, y_buy, \n",
    "#         frank_wolfe.least_norm_linear_regression(x_sell[(s := )], y_sell[s]))\n",
    "#     for k in rang\n",
    "# ], label='Design (sampled)', ls='--', c='C0')\n",
    "\n",
    "# plt.plot(\n",
    "#     [costs[w.argsort()[-k:]].sum() for k in rang], [\n",
    "#     frank_wolfe.MSE(\n",
    "#         x_buy, y_buy, \n",
    "#         frank_wolfe.least_norm_linear_regression(x_sell[w.argsort()[-k:]], y_sell[w.argsort()[-k:]]))\n",
    "#     for k in rang\n",
    "# ], label='Design', ls='-', c='C0', marker='*')\n",
    "plt.plot(\n",
    "    [costs[oob_values[0]['DataOob'].argsort()[-k:]].sum() for k in rang], [\n",
    "    frank_wolfe.MSE(\n",
    "        x_buy, y_buy, \n",
    "        frank_wolfe.least_norm_linear_regression(x_sell[(oob := oob_values[0]['DataOob'].argsort()[-k:])], y_sell[oob]))\n",
    "    for k in rang\n",
    "], label='Bagging', ls='--', c='C1', marker='^')\n",
    "\n",
    "\n",
    "# plt.title(r'Synthe data: Gaussian noise', fontsize=16)\n",
    "plt.title(r'Real data: Gaussian noise', fontsize=16)\n",
    "# plt.title(r'Synthetic data: $h(c) = \\sqrt{c}$', fontsize=16)\n",
    "# plt.title(r'$h(c) = c^2$', fontsize=16)\n",
    "plt.xlabel('Cost', labelpad=10, fontsize=14)\n",
    "plt.ylabel('Error', rotation=0, labelpad=30, fontsize=14)\n",
    "plt.legend()\n",
    "# plt.xlim(0, 30)\n",
    "# plt.ylim(0, 5)\n"
   ]
  },
  {
   "cell_type": "code",
   "execution_count": null,
   "metadata": {},
   "outputs": [],
   "source": []
  },
  {
   "cell_type": "code",
   "execution_count": null,
   "metadata": {},
   "outputs": [],
   "source": []
  },
  {
   "cell_type": "code",
   "execution_count": null,
   "metadata": {},
   "outputs": [],
   "source": []
  },
  {
   "cell_type": "code",
   "execution_count": 64,
   "metadata": {},
   "outputs": [
    {
     "data": {
      "text/plain": [
       "(set(), set())"
      ]
     },
     "execution_count": 64,
     "metadata": {},
     "output_type": "execute_result"
    }
   ],
   "source": [
    "(set(s_) - set(t)), (set(t) - set(s_))"
   ]
  },
  {
   "cell_type": "code",
   "execution_count": 70,
   "metadata": {},
   "outputs": [
    {
     "name": "stdout",
     "output_type": "stream",
     "text": [
      "[0, 1, 2, 3, 4, 15, 16, 17, 18, 19]\n",
      "[0, 1, 2, 3, 4, 15, 16, 17, 18, 19]\n"
     ]
    }
   ],
   "source": [
    "print(sorted(s_))\n",
    "print(sorted(t))"
   ]
  },
  {
   "cell_type": "code",
   "execution_count": 73,
   "metadata": {},
   "outputs": [
    {
     "data": {
      "text/plain": [
       "795.2285436816738"
      ]
     },
     "execution_count": 73,
     "metadata": {},
     "output_type": "execute_result"
    }
   ],
   "source": [
    "a = [0, 1, 2, 3, 4, 15, 16, 17, 18, 19]\n",
    "a = [0, 19, 1, 18, 17, 2, 16, 3, 15, 4]\n",
    "frank_wolfe.MSE(\n",
    "    x_buy, y_buy, \n",
    "    frank_wolfe.least_norm_linear_regression(x_sell[a], y_sell[a])\n",
    ")"
   ]
  },
  {
   "cell_type": "code",
   "execution_count": 253,
   "metadata": {},
   "outputs": [],
   "source": [
    "# def h(c, a=2, b=1): return c**a + b\n",
    "    \n",
    "# def h(c): return np.sqrt(c)\n",
    "    \n",
    "def h(c, a=1, b=0): return c**a + b\n",
    "\n",
    "h1 = lambda c: h(c, a=0.5)\n",
    "h2 = lambda c: h(c, a=1)\n",
    "h3 = lambda c: h(c, a=2)"
   ]
  },
  {
   "cell_type": "code",
   "execution_count": 225,
   "metadata": {},
   "outputs": [
    {
     "name": "stdout",
     "output_type": "stream",
     "text": [
      "subset difference 1.2694676715225521\n",
      "seller difference 1.2063754238807054\n"
     ]
    }
   ],
   "source": [
    "num_seller = 20000\n",
    "num_buyer = 100\n",
    "dim = 100\n",
    "noise_level = 0.1\n",
    "# noise_level = 1\n",
    "# num_iters = num_buyer\n",
    "num_iters = 5\n",
    "\n",
    "x_sell = np.random.normal(size=(num_seller, dim))\n",
    "x_sell /= np.linalg.norm(x_sell, axis=1, keepdims=True)\n",
    "\n",
    "beta_true = np.random.exponential(scale=1, size=dim)\n",
    "beta_true *= np.sign(np.random.random(size=dim))\n",
    "\n",
    "x_buy = np.random.normal(size=[num_buyer, dim])\n",
    "x_buy /= np.linalg.norm(x_buy, axis=1, keepdims=True) \n",
    "y_buy = x_buy @ beta_true\n",
    "\n",
    "x_sell = np.concatenate([\n",
    "    # x_buy,\n",
    "    # x_buy,\n",
    "    # x_buy, \n",
    "    x_sell,\n",
    "])\n",
    "\n",
    "costs = np.concatenate([\n",
    "    np.repeat(1, num_buyer),\n",
    "    np.linspace(0.5, 1.5, num_buyer),\n",
    "    # np.linspace(1.5, 0.5, num_buyer),\n",
    "    np.repeat(1, num_seller),\n",
    "    # np.linspace(0.5, 1.5, num_seller),\n",
    "])\n",
    "\n",
    "# x_sell = np.einsum('i,ij->ij', h1(costs), x_sell)\n",
    "# x_sell = np.einsum('i,ij->ij', h2(costs), x_sell)\n",
    "\n",
    "y_sell = x_sell @ beta_true + noise_level * np.random.randn(x_sell.shape[0])\n",
    "\n",
    "print('subset difference', np.mean(np.abs(y_buy - y_sell[:num_buyer])))\n",
    "print('seller difference', np.mean(np.abs(y_buy - y_sell[-num_buyer:])))"
   ]
  },
  {
   "cell_type": "code",
   "execution_count": 1351,
   "metadata": {},
   "outputs": [
    {
     "name": "stdout",
     "output_type": "stream",
     "text": [
      "1      100.487      1.86      11645      0.19047619047619047 [166.77 162.1  159.19 158.61 157.51 155.93 155.62 155.62 155.57 155.25]\n",
      "2      16.206      0.64      5936      0.18181818181818182 [25.05 24.71 24.11 22.92 22.75 21.9  21.52 21.52 21.42 21.31]\n",
      "3      3.944      0.64      1923      0.17391304347826086 [0.79 0.73 0.72 0.72 0.71 0.69 0.68 0.68 0.67 0.67]\n",
      "4      2.134      0.64      4732      0.16666666666666666 [0.13 0.12 0.12 0.11 0.11 0.11 0.11 0.11 0.11 0.11]\n",
      "5      1.473      0.64      11866      0.16 [0.05 0.05 0.05 0.04 0.04 0.04 0.04 0.04 0.04 0.04]\n"
     ]
    }
   ],
   "source": [
    "n_sell = x_sell.shape[0]\n",
    "w = np.ones(n_sell) / n_sell\n",
    "k = x_buy.shape[0]\n",
    "inv_cov = np.eye(x_sell.shape[1]) \n",
    "inv_cov = np.linalg.pinv(x_sell.T @ np.diag(w) @ x_sell)\n",
    "# inv_cov = np.linalg.pinv(x_sell.T @ x_sell)\n",
    "updates = []\n",
    "losses = []\n",
    "errors = []\n",
    "for t in range(1, num_iters + 1):\n",
    "    \n",
    "    # alpha = 2 / (3 + t)\n",
    "    alpha = 4 / (20 + t)\n",
    "    # alpha = 0.1\n",
    "    \n",
    "    neg_grad = frank_wolfe.compute_neg_gradient(x_sell, x_buy, inv_cov)\n",
    "    # update = np.argmax((1 / costs) * neg_grad)\n",
    "    coords = neg_grad.argsort()[::-1]\n",
    "    update = np.argmax(neg_grad)\n",
    "    updates.append(update)\n",
    "    \n",
    "    loss = frank_wolfe.compute_exp_design_loss(x_buy, inv_cov)\n",
    "    losses.append(loss)\n",
    "    \n",
    "    err = frank_wolfe.MSE(\n",
    "        x_buy, y_buy, \n",
    "        frank_wolfe.least_norm_linear_regression(\n",
    "            x_sell[w.argsort()[-k:]], y_sell[w.argsort()[-k:]])\n",
    "            # x_sell[w.argsort()[:k]], y_sell[w.argsort()[:k]])\n",
    "    )\n",
    "    errors.append(err)\n",
    "    \n",
    "    print(\n",
    "        t,\n",
    "        '    ',\n",
    "        round(loss, 3),\n",
    "        '    ',\n",
    "        err.round(2),\n",
    "        '    ',\n",
    "        update,\n",
    "        '    ',\n",
    "        alpha, \n",
    "        # coords[:10],\n",
    "        neg_grad[coords][:10].round(2),\n",
    "\n",
    "    )\n",
    "    \n",
    "    # print(update)\n",
    "    \n",
    "    # w /= (1 - alpha)\n",
    "    # w *= (1 - alpha)\n",
    "    \n",
    "    # w[update] += alpha\n",
    "    # inv_cov = np.linalg.pinv(x_sell.T @ np.diag(w) @ x_sell)\n",
    "    \n",
    "    # inv_cov *= 1 - alpha \n",
    "    # inv_cov /= 1 - alpha \n",
    "\n",
    "    # inv_cov = frank_wolfe.sherman_morrison_update_inverse( \n",
    "    #     inv_cov,\n",
    "    #     alpha * x_sell[update, :],\n",
    "    #     x_sell[update, :],\n",
    "    # )\n",
    "    \n",
    "    for i in range(100):\n",
    "        # alpha_i = alpha / (i + 1)\n",
    "        alpha_i = alpha\n",
    "        w[coords[i]] += alpha_i\n",
    "        inv_cov = frank_wolfe.sherman_morrison_update_inverse( \n",
    "            inv_cov,\n",
    "            alpha_i * x_sell[coords[i], :],\n",
    "            x_sell[coords[i], :],\n",
    "        )\n",
    "\n",
    "w /= w.sum()\n",
    "# neg_grad"
   ]
  },
  {
   "cell_type": "code",
   "execution_count": 1352,
   "metadata": {},
   "outputs": [
    {
     "data": {
      "text/plain": [
       "(array([4.700e+01, 5.600e+02, 2.901e+03, 6.009e+03, 5.932e+03, 3.258e+03,\n",
       "        1.000e+03, 2.460e+02, 4.400e+01, 3.000e+00]),\n",
       " array([0.01194121, 0.0155853 , 0.01922938, 0.02287347, 0.02651756,\n",
       "        0.03016165, 0.03380574, 0.03744982, 0.04109391, 0.044738  ,\n",
       "        0.04838209]),\n",
       " <BarContainer object of 10 artists>)"
      ]
     },
     "execution_count": 1352,
     "metadata": {},
     "output_type": "execute_result"
    },
    {
     "data": {
      "image/png": "[encoded data removed]",
      "text/plain": [
       "<Figure size 640x480 with 1 Axes>"
      ]
     },
     "metadata": {},
     "output_type": "display_data"
    }
   ],
   "source": [
    "plt.hist(neg_grad)"
   ]
  },
  {
   "cell_type": "code",
   "execution_count": 1354,
   "metadata": {},
   "outputs": [
    {
     "data": {
      "text/plain": [
       "<matplotlib.legend.Legend at 0x7fbf21373310>"
      ]
     },
     "execution_count": 1354,
     "metadata": {},
     "output_type": "execute_result"
    },
    {
     "data": {
      "image/png": "[encoded data removed]",
      "text/plain": [
       "<Figure size 640x480 with 1 Axes>"
      ]
     },
     "metadata": {},
     "output_type": "display_data"
    }
   ],
   "source": [
    "plt.plot(errors, label='error')\n",
    "# plt.plot(losses, label='loss')\n",
    "# plt.yscale('log')\n",
    "plt.legend()"
   ]
  },
  {
   "cell_type": "code",
   "execution_count": 1362,
   "metadata": {},
   "outputs": [
    {
     "name": "stdout",
     "output_type": "stream",
     "text": [
      "Ours 1.47\n",
      "Random 1.47\n",
      "[11645 10656  7960 16284 13383 18205 11472  1704 18421  1472]\n",
      "grad 1.32\n",
      "[16284   800  9237 11472 11064 13383  3563 10520 11531 14104]\n",
      "design 1.4\n",
      "overlap 30%\n"
     ]
    }
   ],
   "source": [
    "k = 10\n",
    "mse = []\n",
    "for _ in range(30):\n",
    "    s = np.random.choice(np.arange(len(x_sell)), p=w / w.sum(), size=k, replace=False)\n",
    "    mse.append(frank_wolfe.MSE(\n",
    "        x_buy, y_buy, \n",
    "        frank_wolfe.least_norm_linear_regression(x_sell[s], y_sell[s])\n",
    "    ))\n",
    "print('Ours', np.mean(mse).round(2))\n",
    "\n",
    "mse = []\n",
    "for _ in range(30):\n",
    "    s = np.random.choice(np.arange(len(x_sell)), size=k, replace=False)\n",
    "    mse.append(frank_wolfe.MSE(\n",
    "        x_buy, y_buy, \n",
    "        frank_wolfe.least_norm_linear_regression(x_sell[s], y_sell[s])\n",
    "    ))\n",
    "print('Random', np.mean(mse).round(2))\n",
    "\n",
    "# s = [239, 65, 592, 185, 331, 174]\n",
    "\n",
    "s = frank_wolfe.compute_neg_gradient(x_sell, x_buy, np.linalg.pinv(np.dot(x_sell.T, x_sell))).argsort()[::-1][:k]\n",
    "print(s)\n",
    "\n",
    "print('grad', frank_wolfe.MSE(\n",
    "    x_buy, y_buy, \n",
    "    frank_wolfe.least_norm_linear_regression(x_sell[s], y_sell[s])\n",
    ").round(2))\n",
    "\n",
    "t = w.argsort()[::-1][:k]\n",
    "print(t)\n",
    "print('design', frank_wolfe.MSE(\n",
    "    x_buy, y_buy, \n",
    "    frank_wolfe.least_norm_linear_regression(x_sell[t], y_sell[t])\n",
    ").round(2))\n",
    "print('overlap', f'{len(set(s) & set(t)) / len(s):.0%}')"
   ]
  },
  {
   "cell_type": "code",
   "execution_count": null,
   "metadata": {},
   "outputs": [],
   "source": []
  },
  {
   "cell_type": "code",
   "execution_count": null,
   "metadata": {},
   "outputs": [],
   "source": []
  },
  {
   "cell_type": "code",
   "execution_count": 878,
   "metadata": {},
   "outputs": [
    {
     "ename": "ValueError",
     "evalue": "shape mismatch: objects cannot be broadcast to a single shape.  Mismatch is between arg 0 with shape (20,) and arg 1 with shape (9900,).",
     "output_type": "error",
     "traceback": [
      "\u001b[0;31m---------------------------------------------------------------------------\u001b[0m",
      "\u001b[0;31mValueError\u001b[0m                                Traceback (most recent call last)",
      "Cell \u001b[0;32mIn[878], line 2\u001b[0m\n\u001b[1;32m      1\u001b[0m m \u001b[38;5;241m=\u001b[39m \u001b[38;5;241m20\u001b[39m\n\u001b[0;32m----> 2\u001b[0m \u001b[43mplt\u001b[49m\u001b[38;5;241;43m.\u001b[39;49m\u001b[43mbar\u001b[49m\u001b[43m(\u001b[49m\u001b[43mnp\u001b[49m\u001b[38;5;241;43m.\u001b[39;49m\u001b[43marange\u001b[49m\u001b[43m(\u001b[49m\u001b[43mm\u001b[49m\u001b[43m)\u001b[49m\u001b[43m,\u001b[49m\u001b[43m \u001b[49m\u001b[43mnp\u001b[49m\u001b[38;5;241;43m.\u001b[39;49m\u001b[43mbincount\u001b[49m\u001b[43m(\u001b[49m\u001b[43mupdates\u001b[49m\u001b[43m,\u001b[49m\u001b[43m \u001b[49m\u001b[43mminlength\u001b[49m\u001b[38;5;241;43m=\u001b[39;49m\u001b[43mm\u001b[49m\u001b[43m)\u001b[49m\u001b[43m)\u001b[49m\n\u001b[1;32m      3\u001b[0m plt\u001b[38;5;241m.\u001b[39mxlabel(\u001b[38;5;124m'\u001b[39m\u001b[38;5;124mDatapoint\u001b[39m\u001b[38;5;124m'\u001b[39m, fontsize\u001b[38;5;241m=\u001b[39m\u001b[38;5;241m14\u001b[39m)\n\u001b[1;32m      4\u001b[0m plt\u001b[38;5;241m.\u001b[39mylabel(\u001b[38;5;124m'\u001b[39m\u001b[38;5;124mWeight\u001b[39m\u001b[38;5;124m'\u001b[39m, rotation\u001b[38;5;241m=\u001b[39m\u001b[38;5;241m0\u001b[39m, fontsize\u001b[38;5;241m=\u001b[39m\u001b[38;5;241m14\u001b[39m, labelpad\u001b[38;5;241m=\u001b[39m\u001b[38;5;241m32\u001b[39m)\n",
      "File \u001b[0;32m~/.pyenv/versions/3.11.4/lib/python3.11/site-packages/matplotlib/pyplot.py:2439\u001b[0m, in \u001b[0;36mbar\u001b[0;34m(x, height, width, bottom, align, data, **kwargs)\u001b[0m\n\u001b[1;32m   2435\u001b[0m \u001b[38;5;129m@_copy_docstring_and_deprecators\u001b[39m(Axes\u001b[38;5;241m.\u001b[39mbar)\n\u001b[1;32m   2436\u001b[0m \u001b[38;5;28;01mdef\u001b[39;00m \u001b[38;5;21mbar\u001b[39m(\n\u001b[1;32m   2437\u001b[0m         x, height, width\u001b[38;5;241m=\u001b[39m\u001b[38;5;241m0.8\u001b[39m, bottom\u001b[38;5;241m=\u001b[39m\u001b[38;5;28;01mNone\u001b[39;00m, \u001b[38;5;241m*\u001b[39m, align\u001b[38;5;241m=\u001b[39m\u001b[38;5;124m'\u001b[39m\u001b[38;5;124mcenter\u001b[39m\u001b[38;5;124m'\u001b[39m,\n\u001b[1;32m   2438\u001b[0m         data\u001b[38;5;241m=\u001b[39m\u001b[38;5;28;01mNone\u001b[39;00m, \u001b[38;5;241m*\u001b[39m\u001b[38;5;241m*\u001b[39mkwargs):\n\u001b[0;32m-> 2439\u001b[0m     \u001b[38;5;28;01mreturn\u001b[39;00m \u001b[43mgca\u001b[49m\u001b[43m(\u001b[49m\u001b[43m)\u001b[49m\u001b[38;5;241;43m.\u001b[39;49m\u001b[43mbar\u001b[49m\u001b[43m(\u001b[49m\n\u001b[1;32m   2440\u001b[0m \u001b[43m        \u001b[49m\u001b[43mx\u001b[49m\u001b[43m,\u001b[49m\u001b[43m \u001b[49m\u001b[43mheight\u001b[49m\u001b[43m,\u001b[49m\u001b[43m \u001b[49m\u001b[43mwidth\u001b[49m\u001b[38;5;241;43m=\u001b[39;49m\u001b[43mwidth\u001b[49m\u001b[43m,\u001b[49m\u001b[43m \u001b[49m\u001b[43mbottom\u001b[49m\u001b[38;5;241;43m=\u001b[39;49m\u001b[43mbottom\u001b[49m\u001b[43m,\u001b[49m\u001b[43m \u001b[49m\u001b[43malign\u001b[49m\u001b[38;5;241;43m=\u001b[39;49m\u001b[43malign\u001b[49m\u001b[43m,\u001b[49m\n\u001b[1;32m   2441\u001b[0m \u001b[43m        \u001b[49m\u001b[38;5;241;43m*\u001b[39;49m\u001b[38;5;241;43m*\u001b[39;49m\u001b[43m(\u001b[49m\u001b[43m{\u001b[49m\u001b[38;5;124;43m\"\u001b[39;49m\u001b[38;5;124;43mdata\u001b[39;49m\u001b[38;5;124;43m\"\u001b[39;49m\u001b[43m:\u001b[49m\u001b[43m \u001b[49m\u001b[43mdata\u001b[49m\u001b[43m}\u001b[49m\u001b[43m \u001b[49m\u001b[38;5;28;43;01mif\u001b[39;49;00m\u001b[43m \u001b[49m\u001b[43mdata\u001b[49m\u001b[43m \u001b[49m\u001b[38;5;129;43;01mis\u001b[39;49;00m\u001b[43m \u001b[49m\u001b[38;5;129;43;01mnot\u001b[39;49;00m\u001b[43m \u001b[49m\u001b[38;5;28;43;01mNone\u001b[39;49;00m\u001b[43m \u001b[49m\u001b[38;5;28;43;01melse\u001b[39;49;00m\u001b[43m \u001b[49m\u001b[43m{\u001b[49m\u001b[43m}\u001b[49m\u001b[43m)\u001b[49m\u001b[43m,\u001b[49m\u001b[43m \u001b[49m\u001b[38;5;241;43m*\u001b[39;49m\u001b[38;5;241;43m*\u001b[39;49m\u001b[43mkwargs\u001b[49m\u001b[43m)\u001b[49m\n",
      "File \u001b[0;32m~/.pyenv/versions/3.11.4/lib/python3.11/site-packages/matplotlib/__init__.py:1442\u001b[0m, in \u001b[0;36m_preprocess_data.<locals>.inner\u001b[0;34m(ax, data, *args, **kwargs)\u001b[0m\n\u001b[1;32m   1439\u001b[0m \u001b[38;5;129m@functools\u001b[39m\u001b[38;5;241m.\u001b[39mwraps(func)\n\u001b[1;32m   1440\u001b[0m \u001b[38;5;28;01mdef\u001b[39;00m \u001b[38;5;21minner\u001b[39m(ax, \u001b[38;5;241m*\u001b[39margs, data\u001b[38;5;241m=\u001b[39m\u001b[38;5;28;01mNone\u001b[39;00m, \u001b[38;5;241m*\u001b[39m\u001b[38;5;241m*\u001b[39mkwargs):\n\u001b[1;32m   1441\u001b[0m     \u001b[38;5;28;01mif\u001b[39;00m data \u001b[38;5;129;01mis\u001b[39;00m \u001b[38;5;28;01mNone\u001b[39;00m:\n\u001b[0;32m-> 1442\u001b[0m         \u001b[38;5;28;01mreturn\u001b[39;00m \u001b[43mfunc\u001b[49m\u001b[43m(\u001b[49m\u001b[43max\u001b[49m\u001b[43m,\u001b[49m\u001b[43m \u001b[49m\u001b[38;5;241;43m*\u001b[39;49m\u001b[38;5;28;43mmap\u001b[39;49m\u001b[43m(\u001b[49m\u001b[43msanitize_sequence\u001b[49m\u001b[43m,\u001b[49m\u001b[43m \u001b[49m\u001b[43margs\u001b[49m\u001b[43m)\u001b[49m\u001b[43m,\u001b[49m\u001b[43m \u001b[49m\u001b[38;5;241;43m*\u001b[39;49m\u001b[38;5;241;43m*\u001b[39;49m\u001b[43mkwargs\u001b[49m\u001b[43m)\u001b[49m\n\u001b[1;32m   1444\u001b[0m     bound \u001b[38;5;241m=\u001b[39m new_sig\u001b[38;5;241m.\u001b[39mbind(ax, \u001b[38;5;241m*\u001b[39margs, \u001b[38;5;241m*\u001b[39m\u001b[38;5;241m*\u001b[39mkwargs)\n\u001b[1;32m   1445\u001b[0m     auto_label \u001b[38;5;241m=\u001b[39m (bound\u001b[38;5;241m.\u001b[39marguments\u001b[38;5;241m.\u001b[39mget(label_namer)\n\u001b[1;32m   1446\u001b[0m                   \u001b[38;5;129;01mor\u001b[39;00m bound\u001b[38;5;241m.\u001b[39mkwargs\u001b[38;5;241m.\u001b[39mget(label_namer))\n",
      "File \u001b[0;32m~/.pyenv/versions/3.11.4/lib/python3.11/site-packages/matplotlib/axes/_axes.py:2417\u001b[0m, in \u001b[0;36mAxes.bar\u001b[0;34m(self, x, height, width, bottom, align, **kwargs)\u001b[0m\n\u001b[1;32m   2414\u001b[0m     \u001b[38;5;28;01mif\u001b[39;00m yerr \u001b[38;5;129;01mis\u001b[39;00m \u001b[38;5;129;01mnot\u001b[39;00m \u001b[38;5;28;01mNone\u001b[39;00m:\n\u001b[1;32m   2415\u001b[0m         yerr \u001b[38;5;241m=\u001b[39m \u001b[38;5;28mself\u001b[39m\u001b[38;5;241m.\u001b[39m_convert_dx(yerr, y0, y, \u001b[38;5;28mself\u001b[39m\u001b[38;5;241m.\u001b[39mconvert_yunits)\n\u001b[0;32m-> 2417\u001b[0m x, height, width, y, linewidth, hatch \u001b[38;5;241m=\u001b[39m \u001b[43mnp\u001b[49m\u001b[38;5;241;43m.\u001b[39;49m\u001b[43mbroadcast_arrays\u001b[49m\u001b[43m(\u001b[49m\n\u001b[1;32m   2418\u001b[0m \u001b[43m    \u001b[49m\u001b[38;5;66;43;03m# Make args iterable too.\u001b[39;49;00m\n\u001b[1;32m   2419\u001b[0m \u001b[43m    \u001b[49m\u001b[43mnp\u001b[49m\u001b[38;5;241;43m.\u001b[39;49m\u001b[43matleast_1d\u001b[49m\u001b[43m(\u001b[49m\u001b[43mx\u001b[49m\u001b[43m)\u001b[49m\u001b[43m,\u001b[49m\u001b[43m \u001b[49m\u001b[43mheight\u001b[49m\u001b[43m,\u001b[49m\u001b[43m \u001b[49m\u001b[43mwidth\u001b[49m\u001b[43m,\u001b[49m\u001b[43m \u001b[49m\u001b[43my\u001b[49m\u001b[43m,\u001b[49m\u001b[43m \u001b[49m\u001b[43mlinewidth\u001b[49m\u001b[43m,\u001b[49m\u001b[43m \u001b[49m\u001b[43mhatch\u001b[49m\u001b[43m)\u001b[49m\n\u001b[1;32m   2421\u001b[0m \u001b[38;5;66;03m# Now that units have been converted, set the tick locations.\u001b[39;00m\n\u001b[1;32m   2422\u001b[0m \u001b[38;5;28;01mif\u001b[39;00m orientation \u001b[38;5;241m==\u001b[39m \u001b[38;5;124m'\u001b[39m\u001b[38;5;124mvertical\u001b[39m\u001b[38;5;124m'\u001b[39m:\n",
      "File \u001b[0;32m~/.pyenv/versions/3.11.4/lib/python3.11/site-packages/numpy/lib/stride_tricks.py:540\u001b[0m, in \u001b[0;36mbroadcast_arrays\u001b[0;34m(subok, *args)\u001b[0m\n\u001b[1;32m    533\u001b[0m \u001b[38;5;66;03m# nditer is not used here to avoid the limit of 32 arrays.\u001b[39;00m\n\u001b[1;32m    534\u001b[0m \u001b[38;5;66;03m# Otherwise, something like the following one-liner would suffice:\u001b[39;00m\n\u001b[1;32m    535\u001b[0m \u001b[38;5;66;03m# return np.nditer(args, flags=['multi_index', 'zerosize_ok'],\u001b[39;00m\n\u001b[1;32m    536\u001b[0m \u001b[38;5;66;03m#                  order='C').itviews\u001b[39;00m\n\u001b[1;32m    538\u001b[0m args \u001b[38;5;241m=\u001b[39m [np\u001b[38;5;241m.\u001b[39marray(_m, copy\u001b[38;5;241m=\u001b[39m\u001b[38;5;28;01mFalse\u001b[39;00m, subok\u001b[38;5;241m=\u001b[39msubok) \u001b[38;5;28;01mfor\u001b[39;00m _m \u001b[38;5;129;01min\u001b[39;00m args]\n\u001b[0;32m--> 540\u001b[0m shape \u001b[38;5;241m=\u001b[39m \u001b[43m_broadcast_shape\u001b[49m\u001b[43m(\u001b[49m\u001b[38;5;241;43m*\u001b[39;49m\u001b[43margs\u001b[49m\u001b[43m)\u001b[49m\n\u001b[1;32m    542\u001b[0m \u001b[38;5;28;01mif\u001b[39;00m \u001b[38;5;28mall\u001b[39m(array\u001b[38;5;241m.\u001b[39mshape \u001b[38;5;241m==\u001b[39m shape \u001b[38;5;28;01mfor\u001b[39;00m array \u001b[38;5;129;01min\u001b[39;00m args):\n\u001b[1;32m    543\u001b[0m     \u001b[38;5;66;03m# Common case where nothing needs to be broadcasted.\u001b[39;00m\n\u001b[1;32m    544\u001b[0m     \u001b[38;5;28;01mreturn\u001b[39;00m args\n",
      "File \u001b[0;32m~/.pyenv/versions/3.11.4/lib/python3.11/site-packages/numpy/lib/stride_tricks.py:422\u001b[0m, in \u001b[0;36m_broadcast_shape\u001b[0;34m(*args)\u001b[0m\n\u001b[1;32m    417\u001b[0m \u001b[38;5;250m\u001b[39m\u001b[38;5;124;03m\"\"\"Returns the shape of the arrays that would result from broadcasting the\u001b[39;00m\n\u001b[1;32m    418\u001b[0m \u001b[38;5;124;03msupplied arrays against each other.\u001b[39;00m\n\u001b[1;32m    419\u001b[0m \u001b[38;5;124;03m\"\"\"\u001b[39;00m\n\u001b[1;32m    420\u001b[0m \u001b[38;5;66;03m# use the old-iterator because np.nditer does not handle size 0 arrays\u001b[39;00m\n\u001b[1;32m    421\u001b[0m \u001b[38;5;66;03m# consistently\u001b[39;00m\n\u001b[0;32m--> 422\u001b[0m b \u001b[38;5;241m=\u001b[39m \u001b[43mnp\u001b[49m\u001b[38;5;241;43m.\u001b[39;49m\u001b[43mbroadcast\u001b[49m\u001b[43m(\u001b[49m\u001b[38;5;241;43m*\u001b[39;49m\u001b[43margs\u001b[49m\u001b[43m[\u001b[49m\u001b[43m:\u001b[49m\u001b[38;5;241;43m32\u001b[39;49m\u001b[43m]\u001b[49m\u001b[43m)\u001b[49m\n\u001b[1;32m    423\u001b[0m \u001b[38;5;66;03m# unfortunately, it cannot handle 32 or more arguments directly\u001b[39;00m\n\u001b[1;32m    424\u001b[0m \u001b[38;5;28;01mfor\u001b[39;00m pos \u001b[38;5;129;01min\u001b[39;00m \u001b[38;5;28mrange\u001b[39m(\u001b[38;5;241m32\u001b[39m, \u001b[38;5;28mlen\u001b[39m(args), \u001b[38;5;241m31\u001b[39m):\n\u001b[1;32m    425\u001b[0m     \u001b[38;5;66;03m# ironically, np.broadcast does not properly handle np.broadcast\u001b[39;00m\n\u001b[1;32m    426\u001b[0m     \u001b[38;5;66;03m# objects (it treats them as scalars)\u001b[39;00m\n\u001b[1;32m    427\u001b[0m     \u001b[38;5;66;03m# use broadcasting to avoid allocating the full array\u001b[39;00m\n",
      "\u001b[0;31mValueError\u001b[0m: shape mismatch: objects cannot be broadcast to a single shape.  Mismatch is between arg 0 with shape (20,) and arg 1 with shape (9900,)."
     ]
    },
    {
     "data": {
      "image/png": "[encoded data removed]",
      "text/plain": [
       "<Figure size 640x480 with 1 Axes>"
      ]
     },
     "metadata": {},
     "output_type": "display_data"
    }
   ],
   "source": [
    "m = 20\n",
    "plt.bar(np.arange(m), np.bincount(updates, minlength=m))\n",
    "plt.xlabel('Datapoint', fontsize=14)\n",
    "plt.ylabel('Weight', rotation=0, fontsize=14, labelpad=32)\n",
    "plt.axvline(10, c='k')\n",
    "# plt.axvline(20, c='k')\n",
    "# plt.text(3, 11.5, r'$ h(c) = 1$', fontsize=14)\n",
    "# plt.text(11, 11, r'$ h(c) = c^2$' '\\n' r'$c \\in linspace(0.5, 1.5)$', fontsize=14)\n",
    "\n",
    "plt.text(0, 11, r'$ h(c) = c^2$' '\\n' r'$c \\in linspace(0.5, 1.5)$', fontsize=14)\n",
    "plt.text(11, 11, r'$ h(c) = c^2$' '\\n' r'$c \\in linspace(1.5, 0.5)$', fontsize=14)"
   ]
  },
  {
   "cell_type": "code",
   "execution_count": null,
   "metadata": {},
   "outputs": [],
   "source": []
  },
  {
   "cell_type": "code",
   "execution_count": null,
   "metadata": {},
   "outputs": [],
   "source": []
  },
  {
   "cell_type": "code",
   "execution_count": null,
   "metadata": {},
   "outputs": [],
   "source": [
    "dummy = np.ones((4, x_sell.shape[1])), np.ones((4))\n",
    "oob_values = main_gaussian.get_baseline_values(x_sell, y_sell, *dummy, *dummy, \n",
    "                                               baseline_kwargs={\"DataOob\": {\"num_models\": 50}},)\n",
    "\n",
    "# k = 20\n",
    "# k = 10\n",
    "# k = 5\n",
    "\n",
    "# select = w.argsort()[-k:]\n",
    "# select = np.random.choice(np.arange(len(x_sell)), p=w / w.sum(), size=k, replace=False)\n",
    "# select = oob_values[0]['DataOob'].argsort()[-k:]\n",
    "\n",
    "trials = 5\n",
    "rang = list(range(2, 20, 2)) + list(range(20, 300, 10))\n",
    "rand_err  = []\n",
    "rand_cost = []\n",
    "for _ in range(trials):\n",
    "    perm = np.random.permutation(np.arange(x_sell.shape[0]))\n",
    "    rand_err.append([\n",
    "        frank_wolfe.MSE(\n",
    "            x_buy, y_buy, \n",
    "            frank_wolfe.least_norm_linear_regression(x_sell[perm][:k], y_sell[perm][:k])\n",
    "        )\n",
    "        for k in rang\n",
    "    ])\n",
    "    rand_cost.append([costs[perm][:k].sum() for k in rang])\n",
    "design_err = []\n",
    "design_cost = []\n",
    "for _ in range(trials):\n",
    "    derr = []\n",
    "    dcos = []\n",
    "    for k in rang:\n",
    "        sel = np.random.choice(np.arange(len(x_sell)), p=w / w.sum(), size=k, replace=False)\n",
    "        dcos.append(costs[sel].sum())\n",
    "        derr.append(frank_wolfe.MSE(\n",
    "            x_buy, y_buy, \n",
    "            frank_wolfe.least_norm_linear_regression(x_sell[sel], y_sell[sel]),\n",
    "        ))\n",
    "    design_err.append(derr)\n",
    "    design_cost.append(dcos)\n",
    "\n",
    "    \n",
    "plt.plot(\n",
    "    np.mean(rand_cost, 0),\n",
    "    np.mean(rand_err, 0),\n",
    "    label='Random', ls='--', c='C2', marker='o'\n",
    ")\n",
    "plt.plot(\n",
    "    np.mean(design_cost, 0),\n",
    "    np.mean(design_err, 0),\n",
    "    label='Design', ls='--', c='C0', marker='*',\n",
    ")\n",
    "                \n",
    "# plt.plot(\n",
    "#     [costs[w.argsort()[-k:]].sum() for k in rang], [\n",
    "#     frank_wolfe.MSE(\n",
    "#         x_buy, y_buy, \n",
    "#         frank_wolfe.least_norm_linear_regression(x_sell[(s := )], y_sell[s]))\n",
    "#     for k in rang\n",
    "# ], label='Design (sampled)', ls='--', c='C0')\n",
    "\n",
    "# plt.plot(\n",
    "#     [costs[w.argsort()[-k:]].sum() for k in rang], [\n",
    "#     frank_wolfe.MSE(\n",
    "#         x_buy, y_buy, \n",
    "#         frank_wolfe.least_norm_linear_regression(x_sell[w.argsort()[-k:]], y_sell[w.argsort()[-k:]]))\n",
    "#     for k in rang\n",
    "# ], label='Design', ls='-', c='C0', marker='*')\n",
    "plt.plot(\n",
    "    [costs[oob_values[0]['DataOob'].argsort()[-k:]].sum() for k in rang], [\n",
    "    frank_wolfe.MSE(\n",
    "        x_buy, y_buy, \n",
    "        frank_wolfe.least_norm_linear_regression(x_sell[(oob := oob_values[0]['DataOob'].argsort()[-k:])], y_sell[oob]))\n",
    "    for k in rang\n",
    "], label='Bagging', ls='--', c='C1', marker='^')\n",
    "\n",
    "\n",
    "# plt.title(r'$h(c) = \\sqrt{c}$', fontsize=16)\n",
    "plt.title(r'$h(c) = c^2$', fontsize=16)\n",
    "plt.xlabel('Cost', labelpad=10, fontsize=14)\n",
    "plt.ylabel('Error', rotation=0, labelpad=30, fontsize=14)\n",
    "plt.legend()\n",
    "# plt.xlim(0, 30)\n",
    "plt.ylim(0, 5)\n",
    "# plt.bar(np.arange(30), np.bincount(updates, minlength=30))\n",
    "plt.bar(np.arange(30), w[:30])"
   ]
  },
  {
   "cell_type": "code",
   "execution_count": null,
   "metadata": {},
   "outputs": [],
   "source": []
  },
  {
   "cell_type": "code",
   "execution_count": null,
   "metadata": {},
   "outputs": [],
   "source": []
  },
  {
   "cell_type": "code",
   "execution_count": 5,
   "metadata": {},
   "outputs": [],
   "source": [
    "def design_selection(\n",
    "    seller_data,\n",
    "    buyer_data,\n",
    "    num_select=100,\n",
    "    num_iters=100,\n",
    "    alpha=0.1,\n",
    "    line_search=False,\n",
    "    scale_cov=False,\n",
    "    real_cov=False,\n",
    "    topk=1,\n",
    "    shrink=True,\n",
    "    decay_alpha=False,\n",
    "):\n",
    "    x_sell, y_sell = seller_data\n",
    "    x_buy, y_buy = buyer_data\n",
    "\n",
    "    # initialize seller weights\n",
    "    n_sell = x_sell.shape[0]\n",
    "    # weights = np.ones(n_sell) * n_sell\n",
    "    weights = np.ones(n_sell) / n_sell\n",
    "    # weights = np.ones(n_sell) * num_iters\n",
    "    # weights = np.ones(n_sell) \n",
    "\n",
    "    def scale(cov):\n",
    "        cov -= cov.min()\n",
    "        return cov / (cov.max() - cov.min())\n",
    "\n",
    "    # inverse covariance matrix\n",
    "    if real_cov:\n",
    "        inv_cov = np.linalg.pinv(x_sell.T @ (np.diag(weights)) @ x_sell)\n",
    "    else:\n",
    "        inv_cov = np.eye(x_sell.shape[1]) \n",
    "\n",
    "    if scale_cov:\n",
    "        inv_cov = scale(\n",
    "            inv_cov\n",
    "        )  # rescale inverse covariance matrix to be between 0 and 1\n",
    "\n",
    "    # experimental design loss i.e. E[X_buy.T @ inv_cov @ X]\n",
    "    loss = frank_wolfe.compute_exp_design_loss(x_buy, inv_cov)\n",
    "\n",
    "    # track losses and errors\n",
    "    coords = {}\n",
    "    losses = {}\n",
    "    errors = {}\n",
    "    norms = {}\n",
    "    conds = {}\n",
    "    alphas = {}\n",
    "    grads = {}\n",
    "\n",
    "    for i in tqdm(range(num_iters)):\n",
    "\n",
    "        if decay_alpha:\n",
    "            alpha = 2 / (3 + i)\n",
    "        \n",
    "        # Pick coordinate with largest gradient to update\n",
    "        neg_grad = frank_wolfe.compute_neg_gradient(x_sell, x_buy, inv_cov)\n",
    "        grads[i] = neg_grad\n",
    "\n",
    "        if topk > 1:\n",
    "            sorted_grad = neg_grad.argsort()[::-1]\n",
    "            update_coord = sorted_grad[:topk]\n",
    "            coords[i] = update_coord\n",
    "        else:\n",
    "            update_coord = np.argmax(neg_grad)\n",
    "            coords[i] = update_coord\n",
    "\n",
    "        if line_search:\n",
    "            alpha, loss = frank_wolfe.opt_step_size(\n",
    "                x_sell[update_coord], x_buy, inv_cov, loss\n",
    "            )\n",
    "\n",
    "        if topk > 1:\n",
    "            for i, g in enumerate(update_coord, start=1):\n",
    "                weights[g] += alpha\n",
    "            weights /= weights.sum()\n",
    "        else:\n",
    "            if shrink:\n",
    "                weights *= 1 - alpha  \n",
    "            weights[update_coord] += alpha  \n",
    "\n",
    "        # inv_cov = np.linalg.pinv(x_sell.T @ np.diag(weights) @ x_sell)\n",
    "\n",
    "        if shrink:\n",
    "            inv_cov /= (1 - alpha)  \n",
    "        \n",
    "        if topk > 1:\n",
    "            for i, coord in enumerate(update_coord, start=1):\n",
    "                inv_cov = frank_wolfe.sherman_morrison_update_inverse( \n",
    "                    inv_cov,\n",
    "                    alpha * x_sell[coord, :],\n",
    "                    x_sell[coord, :],\n",
    "                )\n",
    "            \n",
    "        else:\n",
    "            inv_cov = frank_wolfe.sherman_morrison_update_inverse( \n",
    "                inv_cov,\n",
    "                alpha * x_sell[update_coord, :],\n",
    "                x_sell[update_coord, :],\n",
    "            )\n",
    "\n",
    "        if scale_cov:\n",
    "            inv_cov = scale(\n",
    "                inv_cov\n",
    "            )\n",
    "\n",
    "        selected_seller_indices = np.random.choice(np.arange(weights.shape[0]), size=num_select, p=weights / weights.sum(), replace=False)\n",
    "        results = frank_wolfe.evaluate_indices(\n",
    "            x_sell,\n",
    "            y_sell,\n",
    "            x_buy,\n",
    "            y_buy,\n",
    "            selected_seller_indices,\n",
    "            inverse_covariance=inv_cov,\n",
    "        )\n",
    "        exp_loss = frank_wolfe.compute_exp_design_loss(x_buy, inv_cov)\n",
    "        # losses[i] = results[\"exp_loss\"]\n",
    "        losses[i] = exp_loss\n",
    "        errors[i] = results[\"mse_error\"]\n",
    "        norms[i] = np.linalg.norm(inv_cov, ord='fro')\n",
    "        conds[i] = np.linalg.cond(x_sell.T @ np.diag(weights) @ x_sell)\n",
    "        alphas[i] = alpha\n",
    "        \n",
    "    # weights /= weights.sum()\n",
    "    return dict(losses=losses, errors=errors, \n",
    "                weights=weights, norms=norms, \n",
    "                conds=conds, coords=coords, alphas=alphas,\n",
    "                sell=(x_sell, y_sell), buy=(x_buy, y_buy), \n",
    "                val=(x_val, y_val),\n",
    "                grads=grads\n",
    "               )"
   ]
  },
  {
   "cell_type": "code",
   "execution_count": 522,
   "metadata": {},
   "outputs": [
    {
     "data": {
      "application/vnd.jupyter.widget-view+json": {
       "model_id": "90d001fa205d43f1afe0c364e3b25648",
       "version_major": 2,
       "version_minor": 0
      },
      "text/plain": [
       "  0%|          | 0/100 [00:00<?, ?it/s]"
      ]
     },
     "metadata": {},
     "output_type": "display_data"
    },
    {
     "data": {
      "application/vnd.jupyter.widget-view+json": {
       "model_id": "b54caf007a3a40d4a597e3b2f2c1635a",
       "version_major": 2,
       "version_minor": 0
      },
      "text/plain": [
       "  0%|          | 0/100 [00:00<?, ?it/s]"
      ]
     },
     "metadata": {},
     "output_type": "display_data"
    },
    {
     "data": {
      "application/vnd.jupyter.widget-view+json": {
       "model_id": "de971095c19a450f9a3ec0495315b256",
       "version_major": 2,
       "version_minor": 0
      },
      "text/plain": [
       "  0%|          | 0/100 [00:00<?, ?it/s]"
      ]
     },
     "metadata": {},
     "output_type": "display_data"
    },
    {
     "data": {
      "application/vnd.jupyter.widget-view+json": {
       "model_id": "6db34156f4aa45d1b7a6057512d8621b",
       "version_major": 2,
       "version_minor": 0
      },
      "text/plain": [
       "  0%|          | 0/100 [00:00<?, ?it/s]"
      ]
     },
     "metadata": {},
     "output_type": "display_data"
    },
    {
     "data": {
      "application/vnd.jupyter.widget-view+json": {
       "model_id": "2ab5a4b62e6148a9a47cd0b87fd01d15",
       "version_major": 2,
       "version_minor": 0
      },
      "text/plain": [
       "  0%|          | 0/100 [00:00<?, ?it/s]"
      ]
     },
     "metadata": {},
     "output_type": "display_data"
    },
    {
     "data": {
      "application/vnd.jupyter.widget-view+json": {
       "model_id": "a9d39ad4bcd645c7863dcca803875f61",
       "version_major": 2,
       "version_minor": 0
      },
      "text/plain": [
       "  0%|          | 0/100 [00:00<?, ?it/s]"
      ]
     },
     "metadata": {},
     "output_type": "display_data"
    },
    {
     "data": {
      "application/vnd.jupyter.widget-view+json": {
       "model_id": "118876aaaf7f490a9ae2fe41f85f1e37",
       "version_major": 2,
       "version_minor": 0
      },
      "text/plain": [
       "  0%|          | 0/100 [00:00<?, ?it/s]"
      ]
     },
     "metadata": {},
     "output_type": "display_data"
    },
    {
     "data": {
      "application/vnd.jupyter.widget-view+json": {
       "model_id": "9a86e1289a3949248fe9cf1c16241d2c",
       "version_major": 2,
       "version_minor": 0
      },
      "text/plain": [
       "  0%|          | 0/100 [00:00<?, ?it/s]"
      ]
     },
     "metadata": {},
     "output_type": "display_data"
    },
    {
     "ename": "KeyboardInterrupt",
     "evalue": "",
     "output_type": "error",
     "traceback": [
      "\u001b[0;31m---------------------------------------------------------------------------\u001b[0m",
      "\u001b[0;31mKeyboardInterrupt\u001b[0m                         Traceback (most recent call last)",
      "Cell \u001b[0;32mIn[522], line 33\u001b[0m\n\u001b[1;32m     18\u001b[0m x_sell, y_sell, x_val, y_val, x_buy, y_buy, beta \u001b[38;5;241m=\u001b[39m main_gaussian\u001b[38;5;241m.\u001b[39mget_data(\n\u001b[1;32m     19\u001b[0m     num_seller \u001b[38;5;241m=\u001b[39m \u001b[38;5;241m500\u001b[39m,\n\u001b[1;32m     20\u001b[0m     num_buyer \u001b[38;5;241m=\u001b[39m num_buyer,\n\u001b[0;32m   (...)\u001b[0m\n\u001b[1;32m     30\u001b[0m     student_df\u001b[38;5;241m=\u001b[39mk,\n\u001b[1;32m     31\u001b[0m )\n\u001b[1;32m     32\u001b[0m \u001b[38;5;66;03m# res = main_gaussian.design_selection(\u001b[39;00m\n\u001b[0;32m---> 33\u001b[0m res \u001b[38;5;241m=\u001b[39m \u001b[43mdesign_selection\u001b[49m\u001b[43m(\u001b[49m\n\u001b[1;32m     34\u001b[0m \u001b[43m    \u001b[49m\u001b[43m(\u001b[49m\u001b[43mx_sell\u001b[49m\u001b[43m,\u001b[49m\u001b[43m \u001b[49m\u001b[43my_sell\u001b[49m\u001b[43m)\u001b[49m\u001b[43m,\u001b[49m\u001b[43m \u001b[49m\u001b[43m(\u001b[49m\u001b[43mx_buy\u001b[49m\u001b[43m,\u001b[49m\u001b[43m \u001b[49m\u001b[43my_buy\u001b[49m\u001b[43m)\u001b[49m\u001b[43m,\u001b[49m\u001b[43m \u001b[49m\n\u001b[1;32m     35\u001b[0m \u001b[43m    \u001b[49m\u001b[43mnum_select\u001b[49m\u001b[38;5;241;43m=\u001b[39;49m\u001b[38;5;241;43m10\u001b[39;49m\u001b[43m,\u001b[49m\u001b[43m \u001b[49m\n\u001b[1;32m     36\u001b[0m \u001b[43m    \u001b[49m\u001b[38;5;66;43;03m# num_iters=100,\u001b[39;49;00m\n\u001b[1;32m     37\u001b[0m \u001b[43m    \u001b[49m\u001b[43mnum_iters\u001b[49m\u001b[38;5;241;43m=\u001b[39;49m\u001b[38;5;241;43m100\u001b[39;49m\u001b[43m,\u001b[49m\n\u001b[1;32m     38\u001b[0m \u001b[43m    \u001b[49m\u001b[43malpha\u001b[49m\u001b[38;5;241;43m=\u001b[39;49m\u001b[38;5;241;43m0.1\u001b[39;49m\u001b[43m,\u001b[49m\n\u001b[1;32m     39\u001b[0m \u001b[43m    \u001b[49m\u001b[38;5;66;43;03m# scale_cov=True,\u001b[39;49;00m\n\u001b[1;32m     40\u001b[0m \u001b[43m    \u001b[49m\u001b[43mscale_cov\u001b[49m\u001b[38;5;241;43m=\u001b[39;49m\u001b[38;5;28;43;01mFalse\u001b[39;49;00m\u001b[43m,\u001b[49m\n\u001b[1;32m     41\u001b[0m \u001b[43m\u001b[49m\u001b[43m)\u001b[49m\n\u001b[1;32m     42\u001b[0m gauss_loss_res[k]\u001b[38;5;241m.\u001b[39mappend(res[\u001b[38;5;124m'\u001b[39m\u001b[38;5;124mlosses\u001b[39m\u001b[38;5;124m'\u001b[39m])\n\u001b[1;32m     43\u001b[0m \u001b[38;5;66;03m# norm_res[k].append(res['norms'])\u001b[39;00m\n\u001b[1;32m     44\u001b[0m \u001b[38;5;66;03m# cond_res[k].append(res['conds'])\u001b[39;00m\n",
      "Cell \u001b[0;32mIn[521], line 112\u001b[0m, in \u001b[0;36mdesign_selection\u001b[0;34m(seller_data, buyer_data, num_select, num_iters, alpha, line_search, scale_cov, real_cov, topk)\u001b[0m\n\u001b[1;32m    110\u001b[0m     errors[i] \u001b[38;5;241m=\u001b[39m results[\u001b[38;5;124m\"\u001b[39m\u001b[38;5;124mmse_error\u001b[39m\u001b[38;5;124m\"\u001b[39m]\n\u001b[1;32m    111\u001b[0m     norms[i] \u001b[38;5;241m=\u001b[39m np\u001b[38;5;241m.\u001b[39mlinalg\u001b[38;5;241m.\u001b[39mnorm(inv_cov, \u001b[38;5;28mord\u001b[39m\u001b[38;5;241m=\u001b[39m\u001b[38;5;124m'\u001b[39m\u001b[38;5;124mfro\u001b[39m\u001b[38;5;124m'\u001b[39m)\n\u001b[0;32m--> 112\u001b[0m     conds[i] \u001b[38;5;241m=\u001b[39m \u001b[43mnp\u001b[49m\u001b[38;5;241;43m.\u001b[39;49m\u001b[43mlinalg\u001b[49m\u001b[38;5;241;43m.\u001b[39;49m\u001b[43mcond\u001b[49m\u001b[43m(\u001b[49m\u001b[43mx_sell\u001b[49m\u001b[38;5;241;43m.\u001b[39;49m\u001b[43mT\u001b[49m\u001b[43m \u001b[49m\u001b[38;5;241;43m@\u001b[39;49m\u001b[43m \u001b[49m\u001b[43mnp\u001b[49m\u001b[38;5;241;43m.\u001b[39;49m\u001b[43mdiag\u001b[49m\u001b[43m(\u001b[49m\u001b[43mweights\u001b[49m\u001b[43m)\u001b[49m\u001b[43m \u001b[49m\u001b[38;5;241;43m@\u001b[39;49m\u001b[43m \u001b[49m\u001b[43mx_sell\u001b[49m\u001b[43m)\u001b[49m\n\u001b[1;32m    113\u001b[0m     alphas[i] \u001b[38;5;241m=\u001b[39m alpha\n\u001b[1;32m    114\u001b[0m \u001b[38;5;66;03m# weights /= weights.sum()\u001b[39;00m\n",
      "File \u001b[0;32m~/.pyenv/versions/3.11.4/lib/python3.11/site-packages/numpy/linalg/linalg.py:1786\u001b[0m, in \u001b[0;36mcond\u001b[0;34m(x, p)\u001b[0m\n\u001b[1;32m   1784\u001b[0m     \u001b[38;5;28;01mraise\u001b[39;00m LinAlgError(\u001b[38;5;124m\"\u001b[39m\u001b[38;5;124mcond is not defined on empty arrays\u001b[39m\u001b[38;5;124m\"\u001b[39m)\n\u001b[1;32m   1785\u001b[0m \u001b[38;5;28;01mif\u001b[39;00m p \u001b[38;5;129;01mis\u001b[39;00m \u001b[38;5;28;01mNone\u001b[39;00m \u001b[38;5;129;01mor\u001b[39;00m p \u001b[38;5;241m==\u001b[39m \u001b[38;5;241m2\u001b[39m \u001b[38;5;129;01mor\u001b[39;00m p \u001b[38;5;241m==\u001b[39m \u001b[38;5;241m-\u001b[39m\u001b[38;5;241m2\u001b[39m:\n\u001b[0;32m-> 1786\u001b[0m     s \u001b[38;5;241m=\u001b[39m \u001b[43msvd\u001b[49m\u001b[43m(\u001b[49m\u001b[43mx\u001b[49m\u001b[43m,\u001b[49m\u001b[43m \u001b[49m\u001b[43mcompute_uv\u001b[49m\u001b[38;5;241;43m=\u001b[39;49m\u001b[38;5;28;43;01mFalse\u001b[39;49;00m\u001b[43m)\u001b[49m\n\u001b[1;32m   1787\u001b[0m     \u001b[38;5;28;01mwith\u001b[39;00m errstate(\u001b[38;5;28mall\u001b[39m\u001b[38;5;241m=\u001b[39m\u001b[38;5;124m'\u001b[39m\u001b[38;5;124mignore\u001b[39m\u001b[38;5;124m'\u001b[39m):\n\u001b[1;32m   1788\u001b[0m         \u001b[38;5;28;01mif\u001b[39;00m p \u001b[38;5;241m==\u001b[39m \u001b[38;5;241m-\u001b[39m\u001b[38;5;241m2\u001b[39m:\n",
      "File \u001b[0;32m~/.pyenv/versions/3.11.4/lib/python3.11/site-packages/numpy/linalg/linalg.py:1693\u001b[0m, in \u001b[0;36msvd\u001b[0;34m(a, full_matrices, compute_uv, hermitian)\u001b[0m\n\u001b[1;32m   1690\u001b[0m     gufunc \u001b[38;5;241m=\u001b[39m _umath_linalg\u001b[38;5;241m.\u001b[39msvd_n\n\u001b[1;32m   1692\u001b[0m signature \u001b[38;5;241m=\u001b[39m \u001b[38;5;124m'\u001b[39m\u001b[38;5;124mD->d\u001b[39m\u001b[38;5;124m'\u001b[39m \u001b[38;5;28;01mif\u001b[39;00m isComplexType(t) \u001b[38;5;28;01melse\u001b[39;00m \u001b[38;5;124m'\u001b[39m\u001b[38;5;124md->d\u001b[39m\u001b[38;5;124m'\u001b[39m\n\u001b[0;32m-> 1693\u001b[0m s \u001b[38;5;241m=\u001b[39m \u001b[43mgufunc\u001b[49m\u001b[43m(\u001b[49m\u001b[43ma\u001b[49m\u001b[43m,\u001b[49m\u001b[43m \u001b[49m\u001b[43msignature\u001b[49m\u001b[38;5;241;43m=\u001b[39;49m\u001b[43msignature\u001b[49m\u001b[43m,\u001b[49m\u001b[43m \u001b[49m\u001b[43mextobj\u001b[49m\u001b[38;5;241;43m=\u001b[39;49m\u001b[43mextobj\u001b[49m\u001b[43m)\u001b[49m\n\u001b[1;32m   1694\u001b[0m s \u001b[38;5;241m=\u001b[39m s\u001b[38;5;241m.\u001b[39mastype(_realType(result_t), copy\u001b[38;5;241m=\u001b[39m\u001b[38;5;28;01mFalse\u001b[39;00m)\n\u001b[1;32m   1695\u001b[0m \u001b[38;5;28;01mreturn\u001b[39;00m s\n",
      "\u001b[0;31mKeyboardInterrupt\u001b[0m: "
     ]
    }
   ],
   "source": [
    "exp_trials = 3\n",
    "num_buyer = 10\n",
    "reload(main_gaussian)\n",
    "\n",
    "gauss_buy_res = defaultdict(list)\n",
    "gauss_sell_res = defaultdict(list)\n",
    "gauss_val_res = defaultdict(list)\n",
    "gauss_weight_res = defaultdict(list)\n",
    "gauss_cond_res = defaultdict(list)\n",
    "gauss_norm_res = defaultdict(list)\n",
    "gauss_loss_res = defaultdict(list)\n",
    "gauss_coord_res = defaultdict(list)\n",
    "gauss_err_res = defaultdict(list)\n",
    "# for k in [0, 1e-4, 1e-3, 1e-2, 1e-1, 1]:\n",
    "# for k in [0, 1, 2, 3]:\n",
    "for k in [0.1, 1, 10]:\n",
    "    for i in range(exp_trials):\n",
    "        x_sell, y_sell, x_val, y_val, x_buy, y_buy, beta = main_gaussian.get_data(\n",
    "            num_seller = 500,\n",
    "            num_buyer = num_buyer,\n",
    "            dim = 100,\n",
    "            num_seller_subset=0,\n",
    "            buyer_subset=False,\n",
    "            noise_level=1,\n",
    "            return_beta = True,\n",
    "            random_seed=i,\n",
    "            bone_data=False,\n",
    "            # bone_data=True,\n",
    "            # exponential=True,\n",
    "            student_df=k,\n",
    "        )\n",
    "        # res = main_gaussian.design_selection(\n",
    "        res = design_selection(\n",
    "            (x_sell, y_sell), (x_buy, y_buy), \n",
    "            num_select=10, \n",
    "            # num_iters=100,\n",
    "            num_iters=100,\n",
    "            alpha=0.1,\n",
    "            # scale_cov=True,\n",
    "            scale_cov=False,\n",
    "        )\n",
    "        gauss_loss_res[k].append(res['losses'])\n",
    "        # norm_res[k].append(res['norms'])\n",
    "        # cond_res[k].append(res['conds'])\n",
    "        gauss_err_res[k].append(res['errors'])\n",
    "        # coord_res[k].append(res['coords'])\n",
    "        gauss_weight_res[k].append(res['weights'])\n",
    "        gauss_buy_res[k].append((x_buy, y_buy))\n",
    "        gauss_sell_res[k].append((x_sell, y_sell))\n",
    "        gauss_val_res[k].append((x_val, y_val))"
   ]
  },
  {
   "cell_type": "code",
   "execution_count": 29,
   "metadata": {
    "collapsed": true,
    "jupyter": {
     "outputs_hidden": true,
     "source_hidden": true
    }
   },
   "outputs": [
    {
     "name": "stdout",
     "output_type": "stream",
     "text": [
      "0\n",
      "----------------DataOob-----------------\n"
     ]
    },
    {
     "name": "stderr",
     "output_type": "stream",
     "text": [
      "100%|████████████████████████████████████████████████████████████████████████████████████████████████████████████████████████████████████████████████████| 100/100 [00:04<00:00, 22.29it/s]\n"
     ]
    },
    {
     "name": "stdout",
     "output_type": "stream",
     "text": [
      "\tTIME: 5\n",
      "---------------KNNShapley---------------\n"
     ]
    },
    {
     "name": "stderr",
     "output_type": "stream",
     "text": [
      "100%|███████████████████████████████████████████████████████████████████████████████████████████████████████████████████████████████████████████████████| 499/499 [00:00<00:00, 945.18it/s]\n"
     ]
    },
    {
     "name": "stdout",
     "output_type": "stream",
     "text": [
      "\tTIME: 1\n",
      "0\n",
      "----------------DataOob-----------------\n"
     ]
    },
    {
     "name": "stderr",
     "output_type": "stream",
     "text": [
      "100%|████████████████████████████████████████████████████████████████████████████████████████████████████████████████████████████████████████████████████| 100/100 [00:05<00:00, 19.23it/s]\n"
     ]
    },
    {
     "name": "stdout",
     "output_type": "stream",
     "text": [
      "\tTIME: 5\n",
      "---------------KNNShapley---------------\n"
     ]
    },
    {
     "name": "stderr",
     "output_type": "stream",
     "text": [
      "100%|███████████████████████████████████████████████████████████████████████████████████████████████████████████████████████████████████████████████████| 499/499 [00:00<00:00, 920.54it/s]\n"
     ]
    },
    {
     "name": "stdout",
     "output_type": "stream",
     "text": [
      "\tTIME: 1\n",
      "0\n",
      "----------------DataOob-----------------\n"
     ]
    },
    {
     "name": "stderr",
     "output_type": "stream",
     "text": [
      "100%|████████████████████████████████████████████████████████████████████████████████████████████████████████████████████████████████████████████████████| 100/100 [00:05<00:00, 19.22it/s]\n"
     ]
    },
    {
     "name": "stdout",
     "output_type": "stream",
     "text": [
      "\tTIME: 5\n",
      "---------------KNNShapley---------------\n"
     ]
    },
    {
     "name": "stderr",
     "output_type": "stream",
     "text": [
      "100%|███████████████████████████████████████████████████████████████████████████████████████████████████████████████████████████████████████████████████| 499/499 [00:00<00:00, 927.66it/s]"
     ]
    },
    {
     "name": "stdout",
     "output_type": "stream",
     "text": [
      "\tTIME: 1\n"
     ]
    },
    {
     "name": "stderr",
     "output_type": "stream",
     "text": [
      "\n"
     ]
    }
   ],
   "source": [
    "base_trials = 1\n",
    "gauss_base_weights = defaultdict(list)\n",
    "for k in gauss_val_res.keys():\n",
    "    for j, t in enumerate(range(base_trials)):\n",
    "        print(t)\n",
    "\n",
    "        baseline_values, baseline_runtimes = main_gaussian.get_baseline_values(\n",
    "            *gauss_sell_res[k][j],\n",
    "            *gauss_val_res[k][j],\n",
    "            *gauss_val_res[k][j],\n",
    "            # *gauss_buy_res[k][j],\n",
    "                random_state=t,\n",
    "                baselines={\n",
    "                    \"DataOob\": {\"num_models\": 100},\n",
    "                    \"KNNShapley\": {},\n",
    "                }\n",
    "        )\n",
    "        gauss_base_weights[k].append(baseline_values)"
   ]
  },
  {
   "cell_type": "code",
   "execution_count": 30,
   "metadata": {
    "collapsed": true,
    "jupyter": {
     "outputs_hidden": true,
     "source_hidden": true
    },
    "scrolled": true
   },
   "outputs": [
    {
     "name": "stdout",
     "output_type": "stream",
     "text": [
      "exp done\n",
      "base done\n",
      "knn done\n",
      "bag done\n",
      "exp done\n",
      "base done\n",
      "knn done\n",
      "bag done\n",
      "exp done\n",
      "base done\n",
      "knn done\n",
      "bag done\n"
     ]
    }
   ],
   "source": [
    "import matplotlib\n",
    "cmap = matplotlib.colormaps['plasma'].colors\n",
    "colors = np.array(cmap)[np.linspace(20, 255, 5).astype(int)]\n",
    "\n",
    "lw=3\n",
    "gauss_exp_errors = {}\n",
    "gauss_base_errors = {}\n",
    "gauss_knn_errors = {}\n",
    "gauss_bag_errors = {}\n",
    "rang = np.arange(2, 200, 5)\n",
    "for k, v in gauss_weight_res.items():\n",
    "    gauss_exp_errors[k] = np.mean([[evaluate_subset(\n",
    "        np.random.choice(np.arange(v[t].shape[0]), size=j, p=v[t], replace=False),\n",
    "        *gauss_sell_res[k][t], *gauss_buy_res[k][t]\n",
    "    ) for j in rang] for t in range(exp_trials)], 0)\n",
    "    print('exp done')\n",
    "    gauss_base_errors[k] = np.mean([[evaluate_subset(\n",
    "        np.arange(j), *gauss_sell_res[k][t], *gauss_buy_res[k][t]\n",
    "    ) for j in rang] for t in range(exp_trials)], 0)\n",
    "    print('base done')\n",
    "    gauss_knn_errors[k] = np.mean([[evaluate_subset(\n",
    "            gauss_base_weights[k][t]['KNNShapley'].argsort()[::-1][:j],\n",
    "            *gauss_sell_res[k][t], *gauss_buy_res[k][t]\n",
    "        ) for j in rang] for t in range(base_trials)], 0)\n",
    "    print('knn done')\n",
    "    gauss_bag_errors[k] = np.mean([[evaluate_subset(\n",
    "        gauss_base_weights[k][t]['DataOob'].argsort()[::-1][:j],\n",
    "        *gauss_sell_res[k][t], *gauss_buy_res[k][t]\n",
    "    ) for j in rang] for t in range(base_trials)], 0)\n",
    "    print('bag done')"
   ]
  },
  {
   "cell_type": "code",
   "execution_count": 33,
   "metadata": {
    "collapsed": true,
    "jupyter": {
     "outputs_hidden": true,
     "source_hidden": true
    },
    "scrolled": true
   },
   "outputs": [
    {
     "data": {
      "text/plain": [
       "Text(0.5, 0, 'Number of points selected')"
      ]
     },
     "execution_count": 33,
     "metadata": {},
     "output_type": "execute_result"
    },
    {
     "data": {
      "image/png": "[encoded data removed]",
      "text/plain": [
       "<Figure size 640x480 with 1 Axes>"
      ]
     },
     "metadata": {},
     "output_type": "display_data"
    }
   ],
   "source": [
    "k = 0.1\n",
    "k = 1\n",
    "# k = 10\n",
    "# lw = 3\n",
    "# fig, ax = plt.subplots(ncols=2, figsize=(12, 5))\n",
    "# plt.title('IID test set', fontsize=24)\n",
    "plt.title('Non-IID test set', fontsize=24)\n",
    "plt.plot(rang, gauss_exp_errors[k], label=f'Exp Design', c=colors[0], lw=lw)\n",
    "plt.plot(rang, gauss_base_errors[k], label=f'Random', c='C1', ls='-', lw=lw)\n",
    "plt.plot(rang, gauss_knn_errors[k], label='KNN', c='C0', lw=lw,)\n",
    "plt.plot(rang, gauss_bag_errors[k], label=f'Out of Bag', c='C2', lw=lw)\n",
    "# plt.legend(fontsize=12, bbox_to_anchor=(1, 1))\n",
    "plt.legend(fontsize=12)\n",
    "plt.ylabel('MSE', fontsize=18, rotation=0, labelpad=24)\n",
    "# plt.ylim(0, 10)\n",
    "plt.ylim(0, 5)\n",
    "plt.xlabel('Number of points selected', fontsize=18)\n",
    "# plt.savefig('gaussian-iid.eps', format='eps', bbox_inches='tight')\n",
    "# plt.savefig('gaussian-non-iid.eps', format='eps', bbox_inches='tight')"
   ]
  },
  {
   "cell_type": "code",
   "execution_count": 43,
   "metadata": {},
   "outputs": [
    {
     "name": "stdout",
     "output_type": "stream",
     "text": [
      "(100, 1000)\n"
     ]
    },
    {
     "data": {
      "application/vnd.jupyter.widget-view+json": {
       "model_id": "89b68eeee3fa49dbaf817beaacc6e919",
       "version_major": 2,
       "version_minor": 0
      },
      "text/plain": [
       "  0%|          | 0/100 [00:00<?, ?it/s]"
      ]
     },
     "metadata": {},
     "output_type": "display_data"
    }
   ],
   "source": [
    "exp_trials = 5\n",
    "exp_trials = 1\n",
    "num_buyer = 100\n",
    "reload(main_gaussian)\n",
    "\n",
    "bone_buy_res = defaultdict(list)\n",
    "bone_sell_res = defaultdict(list)\n",
    "bone_val_res = defaultdict(list)\n",
    "bone_weight_res = defaultdict(list)\n",
    "bone_cond_res = defaultdict(list)\n",
    "bone_norm_res = defaultdict(list)\n",
    "bone_loss_res = defaultdict(list)\n",
    "bone_coord_res = defaultdict(list)\n",
    "bone_err_res = defaultdict(list)\n",
    "bone_grad_res = defaultdict(list)\n",
    "# for k in [0, 1e-4, 1e-3, 1e-2, 1e-1, 1]:\n",
    "# for k in [0, 1, 2, 3]:\n",
    "for k in [0]:\n",
    "    for i in range(exp_trials):\n",
    "        x_sell, y_sell, x_val, y_val, x_buy, y_buy, beta = main_gaussian.get_data(\n",
    "            num_seller = 1000,\n",
    "            num_buyer = num_buyer,\n",
    "            dim = 100,\n",
    "            num_seller_subset=1,\n",
    "            buyer_subset=False,\n",
    "            noise_level=1,\n",
    "            return_beta = True,\n",
    "            random_seed=i,\n",
    "            bone_data=True,\n",
    "            cluster=False,\n",
    "            # n_clusters=50,\n",
    "        )\n",
    "        # x_buy += 0.001 * np.random.uniform(size=x_buy.shape)\n",
    "        print(x_buy.shape)\n",
    "        # res = main_gaussian.design_selection(\n",
    "        b = 0\n",
    "        res = design_selection(\n",
    "            (x_sell[b:], y_sell[b:]), (x_buy, y_buy), \n",
    "            # (x_sell[:], y_sell[:]), (x_buy, y_buy), \n",
    "            num_select=10, \n",
    "            # num_iters=100,\n",
    "            num_iters=num_buyer,\n",
    "            alpha=0.1,\n",
    "            # scale_cov=True,\n",
    "            real_cov=True,\n",
    "            # topk=40,\n",
    "            shrink=True,\n",
    "            # decay_alpha=True,\n",
    "        )\n",
    "        bone_loss_res[k].append(res['losses'])\n",
    "        bone_err_res[k].append(res['errors'])\n",
    "        bone_weight_res[k].append(res['weights'])\n",
    "        bone_buy_res[k].append((x_buy, y_buy))\n",
    "        bone_sell_res[k].append((x_sell, y_sell))\n",
    "        bone_val_res[k].append((x_val, y_val))\n",
    "        \n",
    "        bone_norm_res[k].append(res['norms'])\n",
    "        bone_cond_res[k].append(res['conds'])\n",
    "        bone_coord_res[k].append(res['coords'])\n",
    "        bone_grad_res[k].append(res['grads'])"
   ]
  },
  {
   "cell_type": "code",
   "execution_count": 44,
   "metadata": {},
   "outputs": [
    {
     "name": "stdout",
     "output_type": "stream",
     "text": [
      "0\n",
      "----------------DataOob-----------------\n"
     ]
    },
    {
     "name": "stderr",
     "output_type": "stream",
     "text": [
      "100%|█████████████████████████████████████████████████████████████████████████████████████████████████████████████████████████████| 10/10 [00:55<00:00,  5.52s/it]\n"
     ]
    },
    {
     "name": "stdout",
     "output_type": "stream",
     "text": [
      "\tTIME: 55\n",
      "---------------KNNShapley---------------\n"
     ]
    },
    {
     "name": "stderr",
     "output_type": "stream",
     "text": [
      "100%|████████████████████████████████████████████████████████████████████████████████████████████████████████████████████████| 1099/1099 [00:01<00:00, 783.34it/s]\n"
     ]
    },
    {
     "name": "stdout",
     "output_type": "stream",
     "text": [
      "\tTIME: 2\n",
      "-------------LavaEvaluator--------------\n"
     ]
    },
    {
     "name": "stderr",
     "output_type": "stream",
     "text": [
      "                                                                                                                                                                  \r"
     ]
    },
    {
     "name": "stdout",
     "output_type": "stream",
     "text": [
      "\tTIME: 0\n"
     ]
    }
   ],
   "source": [
    "base_trials = 1\n",
    "\n",
    "bone_base_weights = defaultdict(list)\n",
    "for k in bone_val_res.keys():\n",
    "    for j, t in enumerate(range(base_trials)):\n",
    "        print(t)\n",
    "\n",
    "        baseline_values, baseline_runtimes = main_gaussian.get_baseline_values(\n",
    "            *bone_sell_res[k][j],\n",
    "            *bone_val_res[k][j],\n",
    "            *bone_val_res[k][j],\n",
    "            # *bone_buy_res[k][j],\n",
    "                random_state=t,\n",
    "                baselines=[\"DataOob\", \"KNNShapley\", \"LavaEvaluator\"],\n",
    "                baseline_kwargs={\n",
    "                    \"DataOob\": {\"num_models\": 10},\n",
    "                    \"KNNShapley\": {},\n",
    "                }\n",
    "        )\n",
    "        bone_base_weights[k].append(baseline_values)"
   ]
  },
  {
   "cell_type": "code",
   "execution_count": 52,
   "metadata": {},
   "outputs": [
    {
     "data": {
      "text/plain": [
       "array([46, 18,  3, 93, 17, 48, 23, 44, 28, 32, 24, 50,  9, 70, 76, 49,  0,\n",
       "       90, 26, 51, 14, 59, 66, 75, 54, 61, 95, 67, 43, 92, 25, 99, 19, 68,\n",
       "       33, 11, 16, 21, 10, 20, 94, 60, 22, 56, 36, 57, 71, 55,  2, 30, 39,\n",
       "       91, 79, 35, 45, 34, 86, 47, 29, 82, 84,  8, 78, 98, 69, 53, 74, 63,\n",
       "       37, 87, 88, 40, 27, 65,  4, 41, 80, 72, 85, 52, 62, 96, 81,  6,  1,\n",
       "       89,  5, 83, 73, 15, 97, 12, 38, 58, 42, 64,  7, 13, 77, 31])"
      ]
     },
     "execution_count": 52,
     "metadata": {},
     "output_type": "execute_result"
    }
   ],
   "source": [
    "bone_grad_res[0][0][0].argsort()[-100:]"
   ]
  },
  {
   "cell_type": "code",
   "execution_count": 58,
   "metadata": {},
   "outputs": [
    {
     "data": {
      "text/plain": [
       "(100,)"
      ]
     },
     "execution_count": 58,
     "metadata": {},
     "output_type": "execute_result"
    }
   ],
   "source": [
    "np.unique(list(bone_coord_res[0][0].values())).shape"
   ]
  },
  {
   "cell_type": "code",
   "execution_count": 59,
   "metadata": {},
   "outputs": [
    {
     "data": {
      "text/plain": [
       "array([708, 716, 715, ...,  48,  18,  46])"
      ]
     },
     "execution_count": 59,
     "metadata": {},
     "output_type": "execute_result"
    }
   ],
   "source": [
    "bone_weight_res[0][0].argsort()"
   ]
  },
  {
   "cell_type": "code",
   "execution_count": 48,
   "metadata": {},
   "outputs": [
    {
     "name": "stdout",
     "output_type": "stream",
     "text": [
      "exp done\n",
      "base done\n",
      "knn done\n",
      "bag done\n",
      "lava done\n"
     ]
    }
   ],
   "source": [
    "import matplotlib\n",
    "cmap = matplotlib.colormaps['plasma'].colors\n",
    "colors = np.array(cmap)[np.linspace(20, 255, 5).astype(int)]\n",
    "\n",
    "lw=3\n",
    "# use_ridge = True\n",
    "use_ridge = False\n",
    "bone_exp_errors = {}\n",
    "bone_base_errors = {}\n",
    "bone_knn_errors = {}\n",
    "bone_bag_errors = {}\n",
    "bone_lava_errors = {}\n",
    "\n",
    "rang = np.arange(2, 100, 10)\n",
    "for k, v in bone_weight_res.items():\n",
    "    bone_exp_errors[k] = np.mean([[evaluate_subset(\n",
    "        np.random.choice(np.arange(v[t].shape[0]), size=j, p=v[t] / v[t].sum(), replace=False),\n",
    "        *bone_sell_res[k][t], *bone_buy_res[k][t],\n",
    "        use_ridge=use_ridge,\n",
    "    ) for j in rang] for t in range(exp_trials)], 0)\n",
    "    print('exp done')\n",
    "    bone_base_errors[k] = np.mean([[evaluate_subset(\n",
    "        np.random.choice(np.arange(v[t].shape[0]), size=j, replace=False),\n",
    " *bone_sell_res[k][t], *bone_buy_res[k][t],\n",
    "        use_ridge=use_ridge,\n",
    "    ) for j in rang] for t in range(exp_trials)], 0)\n",
    "    print('base done')\n",
    "    bone_knn_errors[k] = np.mean([[evaluate_subset(\n",
    "            bone_base_weights[k][t]['KNNShapley'].argsort()[::-1][:j],\n",
    "            *bone_sell_res[k][t], *bone_buy_res[k][t],\n",
    "        use_ridge=use_ridge,\n",
    "        ) for j in rang] for t in range(base_trials)], 0)\n",
    "    print('knn done')\n",
    "    bone_bag_errors[k] = np.mean([[evaluate_subset(\n",
    "        bone_base_weights[k][t]['DataOob'].argsort()[::-1][:j],\n",
    "        *bone_sell_res[k][t], *bone_buy_res[k][t],\n",
    "        use_ridge=use_ridge,\n",
    "    ) for j in rang] for t in range(base_trials)], 0)\n",
    "    print('bag done')\n",
    "    bone_lava_errors[k] = np.mean([[evaluate_subset(\n",
    "        bone_base_weights[k][t]['LavaEvaluator'].argsort()[::-1][:j],\n",
    "        *bone_sell_res[k][t], *bone_buy_res[k][t],\n",
    "        use_ridge=use_ridge,\n",
    "    ) for j in rang] for t in range(base_trials)], 0)\n",
    "    print('lava done')"
   ]
  },
  {
   "cell_type": "code",
   "execution_count": 49,
   "metadata": {},
   "outputs": [
    {
     "data": {
      "text/plain": [
       "Text(0.5, 0, 'Number of points selected')"
      ]
     },
     "execution_count": 49,
     "metadata": {},
     "output_type": "execute_result"
    },
    {
     "data": {
      "image/png": "[encoded data removed]",
      "text/plain": [
       "<Figure size 640x480 with 1 Axes>"
      ]
     },
     "metadata": {},
     "output_type": "display_data"
    }
   ],
   "source": [
    "k = 0\n",
    "# lw = 3\n",
    "# fig, ax = plt.subplots(ncols=2, figsize=(12, 5))\n",
    "# plt.title('IID test set', fontsize=24)\n",
    "# plt.title('Non-IID test set', fontsize=24)\n",
    "# plt.title('Bone age', fontsize=24)\n",
    "plt.plot(rang, bone_exp_errors[k], label=f'Exp Design', c=colors[0], lw=lw)\n",
    "plt.plot(rang, bone_base_errors[k], label=f'Random', c='C1', ls='-', lw=lw)\n",
    "plt.plot(rang, bone_knn_errors[k], label='KNN', c='C0', lw=lw,)\n",
    "plt.plot(rang, bone_bag_errors[k], label=f'Out of Bag', c='C2', lw=lw)\n",
    "plt.plot(rang, bone_lava_errors[k], label=f'LAVA', c='C3', lw=lw)\n",
    "# plt.legend(fontsize=12, bbox_to_anchor=(1, 1))\n",
    "plt.legend(fontsize=12)\n",
    "plt.ylabel('MSE', fontsize=18, rotation=0, labelpad=24)\n",
    "plt.ylim(0, 3000)\n",
    "# plt.ylim(0, 5)\n",
    "plt.xlabel('Number of points selected', fontsize=18)\n",
    "# plt.savefig('bone-iid.eps', format='eps', bbox_inches='tight')\n",
    "# plt.savefig('bone-non-iid.eps', format='eps', bbox_inches='tight')"
   ]
  },
  {
   "cell_type": "code",
   "execution_count": null,
   "metadata": {},
   "outputs": [],
   "source": []
  },
  {
   "cell_type": "code",
   "execution_count": null,
   "metadata": {},
   "outputs": [],
   "source": []
  },
  {
   "cell_type": "code",
   "execution_count": null,
   "metadata": {},
   "outputs": [],
   "source": []
  },
  {
   "cell_type": "code",
   "execution_count": 50,
   "metadata": {},
   "outputs": [
    {
     "data": {
      "text/plain": [
       "<matplotlib.legend.Legend at 0x7fa7c3c0fbd0>"
      ]
     },
     "execution_count": 50,
     "metadata": {},
     "output_type": "execute_result"
    },
    {
     "data": {
      "image/png": "[encoded data removed]",
      "text/plain": [
       "<Figure size 1400x400 with 4 Axes>"
      ]
     },
     "metadata": {},
     "output_type": "display_data"
    }
   ],
   "source": [
    "fig, ax = plt.subplots(ncols=4, figsize=(14, 4))\n",
    "for x in bone_loss_res.keys():\n",
    "# for x in alphas[:-1]:\n",
    "# for x in iters:\n",
    "    ax[0].plot(bone_cond_res[x][0].keys(), np.mean([list(x_i.values()) for x_i in bone_cond_res[x]], 0), label=x,)\n",
    "    ax[1].plot(bone_norm_res[x][0].keys(), np.mean([list(x_i.values()) for x_i in bone_norm_res[x]], 0), label=x,)\n",
    "    ax[2].plot(bone_loss_res[x][0].keys(), np.mean([list(x_i.values()) for x_i in bone_loss_res[x]], 0), label=x,)\n",
    "    ax[3].plot(bone_err_res[x][0].keys(), np.mean([list(x_i.values()) for x_i in bone_err_res[x]], 0), label=x,)\n",
    "ax[0].set_title('condition number')\n",
    "ax[1].set_title('norm of inverse cov')\n",
    "ax[2].set_title('loss')\n",
    "ax[3].set_title('error')\n",
    "\n",
    "plt.legend(fontsize=15)"
   ]
  },
  {
   "cell_type": "code",
   "execution_count": null,
   "metadata": {},
   "outputs": [],
   "source": []
  },
  {
   "cell_type": "code",
   "execution_count": null,
   "metadata": {},
   "outputs": [],
   "source": []
  },
  {
   "cell_type": "code",
   "execution_count": null,
   "metadata": {},
   "outputs": [],
   "source": []
  },
  {
   "cell_type": "code",
   "execution_count": 293,
   "metadata": {},
   "outputs": [
    {
     "data": {
      "text/plain": [
       "292.41529772850873"
      ]
     },
     "execution_count": 293,
     "metadata": {},
     "output_type": "execute_result"
    }
   ],
   "source": [
    "loss"
   ]
  },
  {
   "cell_type": "code",
   "execution_count": 494,
   "metadata": {},
   "outputs": [
    {
     "name": "stdout",
     "output_type": "stream",
     "text": [
      "17\n"
     ]
    },
    {
     "data": {
      "text/plain": [
       "array([399, 441, 250, 306, 483, 327, 186, 302, 440, 378, 239,  35,  36,\n",
       "       402,  30, 211, 312, 387, 393, 143, 271,  88, 289, 166,  27,  89,\n",
       "       403, 396, 290, 510, 242, 305, 222, 284, 199, 361, 516, 101, 206,\n",
       "       435, 233, 409, 337, 103, 434, 129, 297, 473, 374, 328, 148, 268,\n",
       "       478, 465, 165, 464, 221, 121, 523,  80, 390, 303, 364, 235, 341,\n",
       "       323,  98, 204,  38, 477, 505, 114, 236, 273, 270,  74, 426,  56,\n",
       "        40,  49, 455, 283,  55, 294, 247,  29, 141, 485, 137, 346, 517,\n",
       "       123, 419, 249, 469, 326, 411, 385, 386, 266, 458, 314, 109,  26,\n",
       "       394, 369, 331, 515,  34,  84, 362, 190,  94, 279, 336, 333, 377,\n",
       "        91, 484, 521, 161, 169, 298,  71, 481, 267, 311, 382, 223, 329,\n",
       "       177, 352, 292, 149, 274, 253, 189, 112,  39, 415, 152,  37, 338,\n",
       "       353,  63,  68,  77, 425,  58, 195, 116, 225, 216, 200,  93, 325,\n",
       "       400,  95, 431, 100, 300, 445,  96, 424, 258, 324, 170, 389, 138,\n",
       "       423, 388, 231, 133,  45, 117, 351,  92,  25, 391, 224, 251, 130,\n",
       "       519, 277, 504, 226, 215, 410, 417, 260, 281, 371, 179, 408, 196,\n",
       "       427, 203, 514, 512, 178, 354, 299, 355, 263, 470, 381, 278,  53,\n",
       "       208, 370,  32, 125, 304,  99,  51, 436, 238, 220, 214, 119, 412,\n",
       "       520, 276, 432,  81, 418, 151, 365, 107, 401, 511, 185, 209, 194,\n",
       "       104,  28, 187, 256, 237, 154, 147, 448, 461, 155,  67, 366, 321,\n",
       "       113, 475, 482, 140, 135, 127, 428, 197, 182, 167, 467,  43, 110,\n",
       "       262,  48, 524, 180,  59,  42, 392, 259, 491, 357, 309,  72, 447,\n",
       "       368, 495, 451, 217, 210, 257, 480, 229, 202, 248,  66, 407, 227,\n",
       "       405,  44,  86, 308, 120,  78, 285, 429, 272, 335, 502, 433, 460,\n",
       "        79, 508, 176, 282, 453, 118, 395, 472, 105,  60, 316, 265, 446,\n",
       "       243,  57, 245, 142, 486,  62,  41, 456, 372, 322, 164, 379, 315,\n",
       "        73, 422, 375, 347, 280,  69, 358, 404, 383,  83, 160, 438, 173,\n",
       "       501,  97, 449, 191, 131, 307, 181,  31, 376, 310, 320, 487, 367,\n",
       "        64, 175, 172, 205, 228,  70, 313, 490, 122, 128, 416, 139, 188,\n",
       "       115, 275, 468, 339, 518, 498, 111, 159, 334, 442, 134, 153, 348,\n",
       "       496, 244,  46, 296, 171, 102, 168, 340, 380, 174, 246, 269, 193,\n",
       "       413, 318, 397, 489, 499, 286, 218, 373, 183, 454, 163, 463, 301,\n",
       "       162, 293, 459, 363, 398, 349, 126, 108, 255, 330, 291, 136, 439,\n",
       "       356, 457, 219,  61, 198,  75, 452, 443,  50, 201, 476, 295, 207,\n",
       "       509, 384,  90,  52, 146, 261, 406, 500, 503, 319, 437, 359, 345,\n",
       "       471, 466, 150, 232, 497, 254, 360, 494, 213, 124, 444, 212, 332,\n",
       "        85, 158, 420, 264, 492, 493, 132, 414, 450, 350, 156, 241, 230,\n",
       "       184, 513, 234, 522, 479, 474, 421, 462,  65, 192, 287, 430, 106,\n",
       "       288,  76, 144, 145, 507,  47, 344,  87, 157,  33, 317, 343, 342,\n",
       "       506, 240, 252, 488,  82,  54,  24,   5,  10,  21,   2,  14,   8,\n",
       "        22,  13,   9,   4,  23,   1,  19,   6,   0,   3,  16,  11,   7,\n",
       "        18,  12,  15,  20,  17])"
      ]
     },
     "execution_count": 494,
     "metadata": {},
     "output_type": "execute_result"
    }
   ],
   "source": [
    "# initialize seller weights\n",
    "alpha = 0.1\n",
    "X = x_sell[5:]\n",
    "# X -= X.mean(0) \n",
    "n_sell = X.shape[0]\n",
    "weights = np.ones(n_sell) / n_sell\n",
    "# weights = np.ones(n_sell) \n",
    "# weights /= (1 - alpha)\n",
    "# weights[0] += alpha\n",
    "inv_cov = np.linalg.pinv(X.T @ (np.diag(weights)) @ X)\n",
    "# inv_cov = np.eye(x_sell.shape[1])\n",
    "\n",
    "loss = frank_wolfe.compute_exp_design_loss(x_buy, inv_cov)\n",
    "neg_grad = frank_wolfe.compute_neg_gradient(X, x_buy, inv_cov)\n",
    "update_coord = np.argmax(neg_grad)\n",
    "print(update_coord)\n",
    "# np.mean((x_buy @ inv_cov @ X.T)**2, 0).argsort()\n",
    "# weights.argsort()\n",
    "neg_grad.argsort()"
   ]
  },
  {
   "cell_type": "code",
   "execution_count": 497,
   "metadata": {},
   "outputs": [
    {
     "data": {
      "text/plain": [
       "array([54, 24,  5, 10, 21,  2, 14,  8, 22, 13,  9,  4, 23,  1, 19,  6,  0,\n",
       "        3, 16, 11,  7, 18, 12, 15, 20, 17])"
      ]
     },
     "execution_count": 497,
     "metadata": {},
     "output_type": "execute_result"
    }
   ],
   "source": [
    "neg_grad.argsort()[-26:]"
   ]
  },
  {
   "cell_type": "code",
   "execution_count": null,
   "metadata": {},
   "outputs": [],
   "source": []
  },
  {
   "cell_type": "code",
   "execution_count": null,
   "metadata": {},
   "outputs": [],
   "source": []
  },
  {
   "cell_type": "code",
   "execution_count": 461,
   "metadata": {},
   "outputs": [
    {
     "name": "stdout",
     "output_type": "stream",
     "text": [
      "0.11652863887371805\n",
      "0.279346642389638\n"
     ]
    }
   ],
   "source": [
    "k = [38, 81]\n",
    "# k = [51, 72]\n",
    "# k = [36, 81]\n",
    "x_k = x_sell[k]\n",
    "y_k = y_sell[k]\n",
    "proj_sell = (x_k.T @ np.linalg.pinv(x_k @ x_k.T) @ x_k)\n",
    "proj_buy = (x_buy.T @ np.linalg.pinv(x_buy @ x_buy.T) @ x_buy)\n",
    "print(np.mean(np.linalg.norm(x_buy @ proj_sell, axis=1)))\n",
    "print(np.mean(np.linalg.norm(x_k @ proj_buy, axis=1)))"
   ]
  },
  {
   "cell_type": "code",
   "execution_count": 462,
   "metadata": {},
   "outputs": [
    {
     "data": {
      "text/plain": [
       "13.828745009964125"
      ]
     },
     "execution_count": 462,
     "metadata": {},
     "output_type": "execute_result"
    }
   ],
   "source": [
    "np.linalg.norm(frank_wolfe.least_norm_linear_regression(x_k, y_k) - beta)"
   ]
  },
  {
   "cell_type": "code",
   "execution_count": 463,
   "metadata": {},
   "outputs": [
    {
     "data": {
      "text/plain": [
       "array([535, 299, 710, ...,   8,   5,   7])"
      ]
     },
     "execution_count": 463,
     "metadata": {},
     "output_type": "execute_result"
    }
   ],
   "source": [
    "X = np.concatenate([x_buy[:], x_sell])\n",
    "P = np.linalg.pinv(X.T @ X)\n",
    "np.linalg.norm(x_buy @ P @ X.T, axis=0).argsort()\n",
    "np.linalg.norm(x_buy @ X.T, axis=0).argsort()"
   ]
  },
  {
   "cell_type": "code",
   "execution_count": 1100,
   "metadata": {},
   "outputs": [
    {
     "data": {
      "text/plain": [
       "array([69, 30, 95, 59, 25, 36, 80, 81,  8, 11, 70, 66, 86, 92, 18, 47, 83,\n",
       "        0, 84,  7, 38, 75, 14, 23, 97, 58, 10, 99, 21, 65, 34, 48, 78, 89,\n",
       "       87, 94, 82, 12, 57,  1, 93, 55, 56,  9, 40, 28, 13, 63, 90,  5, 91,\n",
       "       35, 61, 67, 27, 24, 39, 76, 71, 96, 52, 16, 19,  4, 37, 17, 46, 42,\n",
       "       20, 43, 54, 77, 88, 73, 62, 33,  2,  3, 50, 22, 98, 41, 60, 85, 53,\n",
       "       44, 64, 32, 79,  6, 26, 29, 68, 49, 45, 15, 74, 31, 51, 72])"
      ]
     },
     "execution_count": 1100,
     "metadata": {},
     "output_type": "execute_result"
    }
   ],
   "source": [
    "np.linalg.norm(x_buy @ x_sell.T, axis=0).argsort()"
   ]
  },
  {
   "cell_type": "code",
   "execution_count": 1088,
   "metadata": {},
   "outputs": [
    {
     "data": {
      "text/plain": [
       "0.12939651497204313"
      ]
     },
     "execution_count": 1088,
     "metadata": {},
     "output_type": "execute_result"
    }
   ],
   "source": [
    "w = np.diag(np.ones(x_sell.shape[0]) ) \n",
    "w[0, 0] = 0.9\n",
    "w[1, 1] = 0.9\n",
    "# w[2, 2] = 0.9\n",
    "# w / w.sum()\n",
    "P = np.linalg.inv(x_sell.T @ w @ x_sell)\n",
    "frank_wolfe.compute_exp_design_loss(x_buy, P)"
   ]
  },
  {
   "cell_type": "code",
   "execution_count": null,
   "metadata": {},
   "outputs": [],
   "source": []
  },
  {
   "cell_type": "code",
   "execution_count": null,
   "metadata": {},
   "outputs": [],
   "source": []
  }
 ],
 "metadata": {
  "kernelspec": {
   "display_name": "Python 3 (ipykernel)",
   "language": "python",
   "name": "python3"
  },
  "language_info": {
   "codemirror_mode": {
    "name": "ipython",
    "version": 3
   },
   "file_extension": ".py",
   "mimetype": "text/x-python",
   "name": "python",
   "nbconvert_exporter": "python",
   "pygments_lexer": "ipython3",
   "version": "3.11.4"
  }
 },
 "nbformat": 4,
 "nbformat_minor": 4
}
